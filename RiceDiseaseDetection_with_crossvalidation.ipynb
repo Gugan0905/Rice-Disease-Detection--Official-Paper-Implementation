{
 "cells": [
  {
   "cell_type": "code",
   "execution_count": 1,
   "metadata": {
    "colab": {
     "base_uri": "https://localhost:8080/"
    },
    "executionInfo": {
     "elapsed": 1204,
     "status": "ok",
     "timestamp": 1605088097915,
     "user": {
      "displayName": "GUGAN S KATHIRESAN 18BLC1089",
      "photoUrl": "",
      "userId": "06240111076555851954"
     },
     "user_tz": -330
    },
    "id": "mLvH7legHtAt",
    "outputId": "70f580c7-85e6-428d-c249-974c1f7a76ea"
   },
   "outputs": [
    {
     "name": "stdout",
     "output_type": "stream",
     "text": [
      "Drive already mounted at /content/drive; to attempt to forcibly remount, call drive.mount(\"/content/drive\", force_remount=True).\n"
     ]
    }
   ],
   "source": [
    "from google.colab import drive\n",
    "drive.mount('/content/drive')"
   ]
  },
  {
   "cell_type": "code",
   "execution_count": null,
   "metadata": {},
   "outputs": [],
   "source": [
    "#dataset = https://www.kaggle.com/minhhuy2810/rice-diseases-image-dataset/version/3"
   ]
  },
  {
   "cell_type": "code",
   "execution_count": 2,
   "metadata": {
    "executionInfo": {
     "elapsed": 1023,
     "status": "ok",
     "timestamp": 1605088104512,
     "user": {
      "displayName": "GUGAN S KATHIRESAN 18BLC1089",
      "photoUrl": "",
      "userId": "06240111076555851954"
     },
     "user_tz": -330
    },
    "id": "r8Te0122OBne"
   },
   "outputs": [],
   "source": [
    "import os"
   ]
  },
  {
   "cell_type": "code",
   "execution_count": 4,
   "metadata": {
    "executionInfo": {
     "elapsed": 717526,
     "status": "ok",
     "timestamp": 1605089151128,
     "user": {
      "displayName": "GUGAN S KATHIRESAN 18BLC1089",
      "photoUrl": "",
      "userId": "06240111076555851954"
     },
     "user_tz": -330
    },
    "id": "biU8uVv-IrAK"
   },
   "outputs": [],
   "source": [
    "import zipfile\n",
    "with zipfile.ZipFile('/content/drive/My Drive/final_dataset.zip', 'r') as zip_ref:\n",
    "    zip_ref.extractall('/content/drive/My Drive/')"
   ]
  },
  {
   "cell_type": "code",
   "execution_count": 3,
   "metadata": {
    "colab": {
     "base_uri": "https://localhost:8080/"
    },
    "executionInfo": {
     "elapsed": 103594,
     "status": "ok",
     "timestamp": 1605088233944,
     "user": {
      "displayName": "GUGAN S KATHIRESAN 18BLC1089",
      "photoUrl": "",
      "userId": "06240111076555851954"
     },
     "user_tz": -330
    },
    "id": "HycERGL1eRGa",
    "outputId": "84d55010-cb00-46e8-f673-5a354c94365c"
   },
   "outputs": [
    {
     "name": "stdout",
     "output_type": "stream",
     "text": [
      "\tzip warning: name not matched: Drive/final_dataset.zip\n",
      "\tzip warning: name not matched: drive/My Drive/faster_rcnn_x101_64x4d_fpn_1x\n",
      "Scanning files .........\n",
      "zip I/O error: Operation not supported\n",
      "zip error: Could not create output file (/content/drive/My.zip)\n"
     ]
    }
   ],
   "source": [
    "!zip -r /content/drive/My Drive/final_dataset.zip . -i /content/drive/My Drive/dataset_covid"
   ]
  },
  {
   "cell_type": "code",
   "execution_count": null,
   "metadata": {
    "id": "82c9twsOg52X"
   },
   "outputs": [],
   "source": [
    "import os\n",
    "\n",
    "path, dirs, files = next(os.walk(\"/content/drive/My Drive/LabelledRice/Labelled/LeafBlast\"))\n",
    "file_count = len(files)\n",
    "file_count"
   ]
  },
  {
   "cell_type": "code",
   "execution_count": null,
   "metadata": {
    "colab": {
     "base_uri": "https://localhost:8080/",
     "height": 33
    },
    "executionInfo": {
     "elapsed": 1054,
     "status": "ok",
     "timestamp": 1603897090211,
     "user": {
      "displayName": "GUGAN S KATHIRESAN 18BLC1089",
      "photoUrl": "",
      "userId": "06240111076555851954"
     },
     "user_tz": -330
    },
    "id": "WWIimdLNNiDG",
    "outputId": "2c59fd89-8759-4b9c-bdad-a2a2da91ade2"
   },
   "outputs": [
    {
     "name": "stdout",
     "output_type": "stream",
     "text": [
      "/\n"
     ]
    }
   ],
   "source": [
    "%cd .."
   ]
  },
  {
   "cell_type": "code",
   "execution_count": null,
   "metadata": {
    "id": "veWaeZ1HsyHn"
   },
   "outputs": [],
   "source": [
    "os.environ['KAGGLE_CONFIG_DIR'] = \"/content/drive/My Drive/\""
   ]
  },
  {
   "cell_type": "code",
   "execution_count": null,
   "metadata": {
    "colab": {
     "base_uri": "https://localhost:8080/",
     "height": 33
    },
    "executionInfo": {
     "elapsed": 979,
     "status": "ok",
     "timestamp": 1603897179283,
     "user": {
      "displayName": "GUGAN S KATHIRESAN 18BLC1089",
      "photoUrl": "",
      "userId": "06240111076555851954"
     },
     "user_tz": -330
    },
    "id": "QJwLbnOzt-y_",
    "outputId": "ff0cf1c4-de8f-4b7c-9665-cf7c5aaad8d1"
   },
   "outputs": [
    {
     "name": "stdout",
     "output_type": "stream",
     "text": [
      "/content/gdrive/My Drive\n"
     ]
    }
   ],
   "source": [
    "%cd /content/gdrive/My Drive/"
   ]
  },
  {
   "cell_type": "code",
   "execution_count": null,
   "metadata": {
    "colab": {
     "base_uri": "https://localhost:8080/",
     "height": 66
    },
    "executionInfo": {
     "elapsed": 195094,
     "status": "ok",
     "timestamp": 1603897402386,
     "user": {
      "displayName": "GUGAN S KATHIRESAN 18BLC1089",
      "photoUrl": "",
      "userId": "06240111076555851954"
     },
     "user_tz": -330
    },
    "id": "APOw6HWusyxD",
    "outputId": "2dafdc5a-0233-491a-a006-a876aa29b417"
   },
   "outputs": [
    {
     "name": "stdout",
     "output_type": "stream",
     "text": [
      "Downloading rice-diseases-image-dataset.zip to /content/gdrive/My Drive\n",
      "100% 12.0G/12.0G [03:13<00:00, 40.2MB/s]\n",
      "100% 12.0G/12.0G [03:13<00:00, 66.6MB/s]\n"
     ]
    }
   ],
   "source": [
    "!kaggle datasets download -d minhhuy2810/rice-diseases-image-dataset"
   ]
  },
  {
   "cell_type": "code",
   "execution_count": null,
   "metadata": {
    "colab": {
     "base_uri": "https://localhost:8080/",
     "height": 33
    },
    "executionInfo": {
     "elapsed": 921,
     "status": "ok",
     "timestamp": 1603898231479,
     "user": {
      "displayName": "GUGAN S KATHIRESAN 18BLC1089",
      "photoUrl": "",
      "userId": "06240111076555851954"
     },
     "user_tz": -330
    },
    "id": "9WxFRosnsyqW",
    "outputId": "b5cd3a50-e1a3-4639-c9cc-3536adf9ec0f"
   },
   "outputs": [
    {
     "name": "stdout",
     "output_type": "stream",
     "text": [
      "\tzip warning: zip file empty\n"
     ]
    }
   ],
   "source": [
    "!zip -r /content/gdrive/My.zip . -i /content/gdrive/My Drive/Kaggle_Rice/"
   ]
  },
  {
   "cell_type": "code",
   "execution_count": null,
   "metadata": {
    "id": "11WkIRnYsyhM"
   },
   "outputs": [],
   "source": []
  },
  {
   "cell_type": "code",
   "execution_count": null,
   "metadata": {
    "id": "viudQU7gsyag"
   },
   "outputs": [],
   "source": []
  },
  {
   "cell_type": "code",
   "execution_count": null,
   "metadata": {
    "id": "vIqv5PM8Npn_"
   },
   "outputs": [],
   "source": [
    "!ls"
   ]
  },
  {
   "cell_type": "code",
   "execution_count": null,
   "metadata": {
    "id": "oAi49x7rNZE5"
   },
   "outputs": [],
   "source": [
    "base_dir = '/content/drive/My Drive/UCI_CV'\n",
    "\n",
    "def create_path_list(category):\n",
    "  images_in_path = os.listdir(os.path.join(base_dir,category))\n",
    "  for index,item in enumerate(images_in_path):\n",
    "    images_in_path[index] = base_dir + '/' + category + '/' + item\n",
    "  return images_in_path\n",
    "\n",
    "bacterial_leaf_blight_path = create_path_list('Bacterial leaf blight')\n",
    "brownspot_path = create_path_list('Brown spot')\n",
    "leaf_smut_path = create_path_list('Leaf smut')\n",
    "\n"
   ]
  },
  {
   "cell_type": "code",
   "execution_count": null,
   "metadata": {
    "colab": {
     "base_uri": "https://localhost:8080/",
     "height": 33
    },
    "executionInfo": {
     "elapsed": 4229,
     "status": "ok",
     "timestamp": 1603886223925,
     "user": {
      "displayName": "Nagharjun Mathimariappan",
      "photoUrl": "https://lh3.googleusercontent.com/a-/AOh14GiCbSg-qxNYoi1_bdhUxxCp04bxi0WkhayHpsmauRA=s64",
      "userId": "07406075633121051569"
     },
     "user_tz": -330
    },
    "id": "RDNeY77lZ_J4",
    "outputId": "c59bff3d-2394-4630-82b5-6501e14e4467"
   },
   "outputs": [
    {
     "name": "stdout",
     "output_type": "stream",
     "text": [
      "120\n"
     ]
    }
   ],
   "source": [
    "print(len(bacterial_leaf_blight_path) + len(brownspot_path) + len(leaf_smut_path))"
   ]
  },
  {
   "cell_type": "code",
   "execution_count": null,
   "metadata": {
    "id": "H9oR2Uv8POkH"
   },
   "outputs": [],
   "source": [
    "rice_split_dict_train = { }\n",
    "rice_split_dict_train['bacterial_leaf_blight'] = bacterial_leaf_blight_path\n",
    "rice_split_dict_train['brownspot'] = brownspot_path\n",
    "rice_split_dict_train['leaf_smut'] = leaf_smut_path \n",
    "\n",
    "\n",
    "#bacterial_leaf_blight_path = 1\n",
    "#brownspot_path = 2\n",
    "#leaf_smut_path = 3"
   ]
  },
  {
   "cell_type": "code",
   "execution_count": null,
   "metadata": {
    "id": "hw-3eCgqgUMk"
   },
   "outputs": [],
   "source": [
    "import random\n",
    "all_image_dict= {}\n",
    "for category, path in rice_split_dict_train.items():\n",
    "  for item in path:\n",
    "    all_image_dict.update({item:category})\n",
    "\n",
    "list_of_all_image_paths = list(all_image_dict.keys())\n",
    "random.shuffle(list_of_all_image_paths)\n"
   ]
  },
  {
   "cell_type": "code",
   "execution_count": null,
   "metadata": {
    "colab": {
     "base_uri": "https://localhost:8080/",
     "height": 33
    },
    "executionInfo": {
     "elapsed": 2946,
     "status": "ok",
     "timestamp": 1603886223926,
     "user": {
      "displayName": "Nagharjun Mathimariappan",
      "photoUrl": "https://lh3.googleusercontent.com/a-/AOh14GiCbSg-qxNYoi1_bdhUxxCp04bxi0WkhayHpsmauRA=s64",
      "userId": "07406075633121051569"
     },
     "user_tz": -330
    },
    "id": "QOntACqWsYqD",
    "outputId": "d5f5d106-03d7-4b5a-c240-f66a1c38b25c"
   },
   "outputs": [
    {
     "name": "stdout",
     "output_type": "stream",
     "text": [
      "120\n"
     ]
    }
   ],
   "source": [
    "print(len(list_of_all_image_paths))"
   ]
  },
  {
   "cell_type": "code",
   "execution_count": null,
   "metadata": {
    "id": "nB5tbTAJUxjF"
   },
   "outputs": [],
   "source": [
    "import csv\n",
    "\n",
    "with open('/content/drive/My Drive/train_data1.csv','w') as f:\n",
    "  writer = csv.writer(f)\n",
    "  writer.writerow(['image','label'])\n",
    "  for item in list_of_all_image_paths:\n",
    "    writer.writerow([item,all_image_dict[item]])\n",
    "f.close()"
   ]
  },
  {
   "cell_type": "code",
   "execution_count": null,
   "metadata": {
    "id": "sPiirPNJhLTu"
   },
   "outputs": [],
   "source": [
    "import numpy as np\n",
    "import pandas as pd\n",
    "import tensorflow as tf\n",
    "from tensorflow import keras\n",
    "import matplotlib.pyplot as plt\n",
    "\n",
    "from tensorflow.keras.preprocessing.image import ImageDataGenerator\n",
    "from tensorflow.keras.optimizers import Adam\n",
    "from tensorflow.keras.models import Sequential\n",
    "from tensorflow.keras.layers import Input,Dense,Dropout,Flatten,Conv2D,MaxPool2D,GlobalAveragePooling2D,BatchNormalization\n",
    "from tensorflow.keras.models import Model\n",
    "from tensorflow.keras.regularizers import l2\n",
    "from tensorflow.keras import layers\n",
    "\n",
    "from sklearn.model_selection import KFold, StratifiedKFold"
   ]
  },
  {
   "cell_type": "code",
   "execution_count": null,
   "metadata": {
    "colab": {
     "base_uri": "https://localhost:8080/",
     "height": 453
    },
    "executionInfo": {
     "elapsed": 20900,
     "status": "ok",
     "timestamp": 1603886242674,
     "user": {
      "displayName": "Nagharjun Mathimariappan",
      "photoUrl": "https://lh3.googleusercontent.com/a-/AOh14GiCbSg-qxNYoi1_bdhUxxCp04bxi0WkhayHpsmauRA=s64",
      "userId": "07406075633121051569"
     },
     "user_tz": -330
    },
    "id": "9rGtc6ghpqrH",
    "outputId": "1713b3dc-51fc-452a-9723-e07fcb128b55"
   },
   "outputs": [
    {
     "name": "stdout",
     "output_type": "stream",
     "text": [
      "Collecting git+https://github.com/mjkvaak/ImageDataAugmentor\n",
      "  Cloning https://github.com/mjkvaak/ImageDataAugmentor to /tmp/pip-req-build-prwo3qn3\n",
      "  Running command git clone -q https://github.com/mjkvaak/ImageDataAugmentor /tmp/pip-req-build-prwo3qn3\n",
      "Collecting opencv-python>=4.2\n",
      "\u001b[?25l  Downloading https://files.pythonhosted.org/packages/a2/72/134fdc8d766a6004ee96ce84446f38457a6345fc0ce85721326cbf2adc87/opencv_python-4.4.0.44-cp36-cp36m-manylinux2014_x86_64.whl (49.5MB)\n",
      "\u001b[K     |████████████████████████████████| 49.5MB 64kB/s \n",
      "\u001b[?25hRequirement already satisfied: matplotlib in /usr/local/lib/python3.6/dist-packages (from ImageDataAugmentor==0.0.0) (3.2.2)\n",
      "Requirement already satisfied: Pillow in /usr/local/lib/python3.6/dist-packages (from ImageDataAugmentor==0.0.0) (7.0.0)\n",
      "Requirement already satisfied: scipy in /usr/local/lib/python3.6/dist-packages (from ImageDataAugmentor==0.0.0) (1.4.1)\n",
      "Requirement already satisfied: numpy>=1.13.3 in /usr/local/lib/python3.6/dist-packages (from opencv-python>=4.2->ImageDataAugmentor==0.0.0) (1.18.5)\n",
      "Requirement already satisfied: pyparsing!=2.0.4,!=2.1.2,!=2.1.6,>=2.0.1 in /usr/local/lib/python3.6/dist-packages (from matplotlib->ImageDataAugmentor==0.0.0) (2.4.7)\n",
      "Requirement already satisfied: kiwisolver>=1.0.1 in /usr/local/lib/python3.6/dist-packages (from matplotlib->ImageDataAugmentor==0.0.0) (1.2.0)\n",
      "Requirement already satisfied: cycler>=0.10 in /usr/local/lib/python3.6/dist-packages (from matplotlib->ImageDataAugmentor==0.0.0) (0.10.0)\n",
      "Requirement already satisfied: python-dateutil>=2.1 in /usr/local/lib/python3.6/dist-packages (from matplotlib->ImageDataAugmentor==0.0.0) (2.8.1)\n",
      "Requirement already satisfied: six in /usr/local/lib/python3.6/dist-packages (from cycler>=0.10->matplotlib->ImageDataAugmentor==0.0.0) (1.15.0)\n",
      "Building wheels for collected packages: ImageDataAugmentor\n",
      "  Building wheel for ImageDataAugmentor (setup.py) ... \u001b[?25l\u001b[?25hdone\n",
      "  Created wheel for ImageDataAugmentor: filename=ImageDataAugmentor-0.0.0-cp36-none-any.whl size=28165 sha256=e41ed8dfc99e67fa34c5620a16183d608256f9cdc64177cbd6b755b8baad7389\n",
      "  Stored in directory: /tmp/pip-ephem-wheel-cache-iqexyows/wheels/d9/10/55/6fca35a4072f87d694876d56ece64db3846cf45e1da1c381fe\n",
      "Successfully built ImageDataAugmentor\n",
      "\u001b[31mERROR: albumentations 0.1.12 has requirement imgaug<0.2.7,>=0.2.5, but you'll have imgaug 0.2.9 which is incompatible.\u001b[0m\n",
      "Installing collected packages: opencv-python, ImageDataAugmentor\n",
      "  Found existing installation: opencv-python 4.1.2.30\n",
      "    Uninstalling opencv-python-4.1.2.30:\n",
      "      Successfully uninstalled opencv-python-4.1.2.30\n",
      "Successfully installed ImageDataAugmentor-0.0.0 opencv-python-4.4.0.44\n"
     ]
    }
   ],
   "source": [
    "! pip install git+https://github.com/mjkvaak/ImageDataAugmentor"
   ]
  },
  {
   "cell_type": "code",
   "execution_count": null,
   "metadata": {
    "id": "gjqcYl_SpkYw"
   },
   "outputs": [],
   "source": [
    "import ImageDataAugmentor\n",
    "import cv2\n",
    "import albumentations as albu\n",
    "\n",
    "train_aug = albu.Compose([\n",
    "            albu.HorizontalFlip(),\n",
    "             albu.OneOf([\n",
    "                albu.HorizontalFlip(),\n",
    "                albu.VerticalFlip(),\n",
    "                ], p=0.8),\n",
    "            albu.OneOf([\n",
    "                albu.RandomContrast(),\n",
    "                albu.RandomGamma(),\n",
    "                albu.RandomBrightness(),\n",
    "                ], p=0.3),\n",
    "            albu.OneOf([\n",
    "                albu.ElasticTransform(alpha=120, sigma=120 * 0.05, alpha_affine=120 * 0.03),\n",
    "                albu.GridDistortion(),\n",
    "                albu.OpticalDistortion(distort_limit=2, shift_limit=0.5),\n",
    "                ], p=0.3),\n",
    "            albu.ShiftScaleRotate(),\n",
    "            albu.JpegCompression(quality_lower=99, quality_upper=100, always_apply=False, p=0.5)\n",
    "            ])"
   ]
  },
  {
   "cell_type": "code",
   "execution_count": null,
   "metadata": {
    "id": "1faWvFPLpjr3"
   },
   "outputs": [],
   "source": [
    "train_data = pd.read_csv('train_data1.csv')\n",
    "Y = train_data[['label']]\n",
    "\n",
    "kf = StratifiedKFold(n_splits=5, random_state = 7, shuffle = True)"
   ]
  },
  {
   "cell_type": "code",
   "execution_count": null,
   "metadata": {
    "colab": {
     "base_uri": "https://localhost:8080/",
     "height": 160
    },
    "executionInfo": {
     "elapsed": 22685,
     "status": "ok",
     "timestamp": 1603886245096,
     "user": {
      "displayName": "Nagharjun Mathimariappan",
      "photoUrl": "https://lh3.googleusercontent.com/a-/AOh14GiCbSg-qxNYoi1_bdhUxxCp04bxi0WkhayHpsmauRA=s64",
      "userId": "07406075633121051569"
     },
     "user_tz": -330
    },
    "id": "OcUbCf87rgW3",
    "outputId": "b59676a3-8a6a-408d-947c-92b4ec3cd5ee"
   },
   "outputs": [
    {
     "data": {
      "image/png": "[encoded data removed]",
      "text/plain": [
       "<Figure size 432x288 with 1 Axes>"
      ]
     },
     "metadata": {
      "needs_background": "light",
      "tags": []
     },
     "output_type": "display_data"
    }
   ],
   "source": [
    "from keras.preprocessing import image\n",
    "img = plt.imread(list_of_all_image_paths[7])\n",
    "\n",
    "plt.title(all_image_dict[list_of_all_image_paths[7]])\n",
    "plt.imshow(img);"
   ]
  },
  {
   "cell_type": "code",
   "execution_count": null,
   "metadata": {
    "colab": {
     "base_uri": "https://localhost:8080/",
     "height": 165
    },
    "executionInfo": {
     "elapsed": 23587,
     "status": "ok",
     "timestamp": 1603886246214,
     "user": {
      "displayName": "Nagharjun Mathimariappan",
      "photoUrl": "https://lh3.googleusercontent.com/a-/AOh14GiCbSg-qxNYoi1_bdhUxxCp04bxi0WkhayHpsmauRA=s64",
      "userId": "07406075633121051569"
     },
     "user_tz": -330
    },
    "id": "7DWxdsEssn3f",
    "outputId": "2fcadfdb-2c4a-45e1-9395-b2aeadfba51a"
   },
   "outputs": [
    {
     "data": {
      "text/plain": [
       "<matplotlib.image.AxesImage at 0x7fb2e8029e80>"
      ]
     },
     "execution_count": 17,
     "metadata": {
      "tags": []
     },
     "output_type": "execute_result"
    },
    {
     "data": {
      "image/png": "[encoded data removed]",
      "text/plain": [
       "<Figure size 432x288 with 1 Axes>"
      ]
     },
     "metadata": {
      "needs_background": "light",
      "tags": []
     },
     "output_type": "display_data"
    }
   ],
   "source": [
    "def augmented_image(augmentation,image):\n",
    "    \n",
    "    # get the transform as a dict\n",
    "    aug_image_dict =  augmentation(image=image)\n",
    "    # retrieve the augmented matrix of the image\n",
    "    image_matrix = aug_image_dict['image']\n",
    "    \n",
    "    \n",
    "    return image_matrix\n",
    "\n",
    "aug_image = augmented_image(train_aug, img)\n",
    "\n",
    "plt.imshow(aug_image)"
   ]
  },
  {
   "cell_type": "code",
   "execution_count": null,
   "metadata": {
    "id": "soi4UOr3sraj"
   },
   "outputs": [],
   "source": [
    "from ImageDataAugmentor.image_data_augmentor import *\n",
    "image_datagen = ImageDataAugmentor(\n",
    "        rescale=1./255,\n",
    "        augment = train_aug,\n",
    "        preprocess_input=None)\n",
    "\n",
    "N_SAMPLES = len(list_of_all_image_paths)\n"
   ]
  },
  {
   "cell_type": "code",
   "execution_count": null,
   "metadata": {
    "id": "xZvIdD5PGZ_x"
   },
   "outputs": [],
   "source": [
    "from keras import backend as K\n",
    "\n",
    "def recall_m(y_true, y_pred):\n",
    "    true_positives = K.sum(K.round(K.clip(y_true * y_pred, 0, 1)))\n",
    "    possible_positives = K.sum(K.round(K.clip(y_true, 0, 1)))\n",
    "    recall = true_positives / (possible_positives + K.epsilon())\n",
    "    return recall\n",
    "\n",
    "def precision_m(y_true, y_pred):\n",
    "    true_positives = K.sum(K.round(K.clip(y_true * y_pred, 0, 1)))\n",
    "    predicted_positives = K.sum(K.round(K.clip(y_pred, 0, 1)))\n",
    "    precision = true_positives / (predicted_positives + K.epsilon())\n",
    "    return precision\n",
    "\n",
    "def f1_m(y_true, y_pred):\n",
    "    precision = precision_m(y_true, y_pred)\n",
    "    recall = recall_m(y_true, y_pred)\n",
    "    return 2*((precision*recall)/(precision+recall+K.epsilon()))   \n",
    "\n",
    "def densenet_model():\n",
    "\n",
    "  temp_model =  tf.keras.applications.DenseNet169(weights='imagenet',include_top=False, pooling=max,input_shape=(224,224,3))\n",
    "\n",
    "  for layer in temp_model.layers:\n",
    "      layer.trainable = False\n",
    "\n",
    "  #print(temp_model.summary())\n",
    "\n",
    "  last_layer   =  temp_model.get_layer('relu')\n",
    "  last_output = last_layer.output\n",
    "\n",
    "  print(last_output)\n",
    "\n",
    "  x = layers.AveragePooling2D((2,2),strides=1)(last_output)\n",
    "  x = layers.Flatten()(last_output)\n",
    "  x = layers.Dense(512,activation='relu')(x)\n",
    "  x = layers.BatchNormalization()(x)\n",
    "  x = layers.Dropout(0.2)(x)\n",
    "  predictions = Dense(3, activation='softmax')(x)\n",
    "  model = Model(temp_model.input,predictions)\n",
    "  \n",
    "      \n",
    "  model.compile(loss='categorical_crossentropy',\n",
    "                  optimizer=Adam(learning_rate=0.0001),\n",
    "                  metrics=['accuracy',f1_m, precision_m, recall_m])\n",
    "  \n",
    "  return model\n",
    "\n"
   ]
  },
  {
   "cell_type": "code",
   "execution_count": null,
   "metadata": {
    "colab": {
     "base_uri": "https://localhost:8080/",
     "height": 1000
    },
    "executionInfo": {
     "elapsed": 1254935,
     "status": "ok",
     "timestamp": 1603887478433,
     "user": {
      "displayName": "Nagharjun Mathimariappan",
      "photoUrl": "https://lh3.googleusercontent.com/a-/AOh14GiCbSg-qxNYoi1_bdhUxxCp04bxi0WkhayHpsmauRA=s64",
      "userId": "07406075633121051569"
     },
     "user_tz": -330
    },
    "id": "Uq79bbFV-pk3",
    "outputId": "33a18e7d-2406-4829-c9ff-475d54de894c"
   },
   "outputs": [
    {
     "name": "stdout",
     "output_type": "stream",
     "text": [
      "Found 96 validated image filenames belonging to 3 classes.\n",
      "Found 24 validated image filenames belonging to 3 classes.\n",
      "Downloading data from https://storage.googleapis.com/tensorflow/keras-applications/densenet/densenet169_weights_tf_dim_ordering_tf_kernels_notop.h5\n",
      "51879936/51877672 [==============================] - 5s 0us/step\n",
      "Tensor(\"relu/Relu:0\", shape=(None, 7, 7, 1664), dtype=float32)\n",
      "Epoch 1/20\n",
      "24/24 [==============================] - 101s 4s/step - loss: 1.6080 - accuracy: 0.5729 - f1_m: 0.5759 - precision_m: 0.5938 - recall_m: 0.5625 - val_loss: 3.7106 - val_accuracy: 0.4583 - val_f1_m: 0.4583 - val_precision_m: 0.4583 - val_recall_m: 0.4583\n",
      "Epoch 2/20\n",
      "24/24 [==============================] - 5s 191ms/step - loss: 0.8227 - accuracy: 0.6875 - f1_m: 0.6949 - precision_m: 0.7049 - recall_m: 0.6875 - val_loss: 1.3621 - val_accuracy: 0.7083 - val_f1_m: 0.7083 - val_precision_m: 0.7083 - val_recall_m: 0.7083\n",
      "Epoch 3/20\n",
      "24/24 [==============================] - 5s 201ms/step - loss: 0.8170 - accuracy: 0.7812 - f1_m: 0.7812 - precision_m: 0.8090 - recall_m: 0.7604 - val_loss: 1.2416 - val_accuracy: 0.7500 - val_f1_m: 0.7500 - val_precision_m: 0.7500 - val_recall_m: 0.7500\n",
      "Epoch 4/20\n",
      "24/24 [==============================] - 5s 195ms/step - loss: 0.4600 - accuracy: 0.8333 - f1_m: 0.8393 - precision_m: 0.8472 - recall_m: 0.8333 - val_loss: 0.5376 - val_accuracy: 0.8750 - val_f1_m: 0.8750 - val_precision_m: 0.8750 - val_recall_m: 0.8750\n",
      "Epoch 5/20\n",
      "24/24 [==============================] - 5s 193ms/step - loss: 0.7190 - accuracy: 0.7188 - f1_m: 0.7217 - precision_m: 0.7396 - recall_m: 0.7083 - val_loss: 0.3761 - val_accuracy: 0.7917 - val_f1_m: 0.7917 - val_precision_m: 0.7917 - val_recall_m: 0.7917\n",
      "Epoch 6/20\n",
      "24/24 [==============================] - 5s 196ms/step - loss: 0.5804 - accuracy: 0.7500 - f1_m: 0.7470 - precision_m: 0.7569 - recall_m: 0.7396 - val_loss: 0.4385 - val_accuracy: 0.8333 - val_f1_m: 0.8333 - val_precision_m: 0.8333 - val_recall_m: 0.8333\n",
      "Epoch 7/20\n",
      "24/24 [==============================] - 5s 190ms/step - loss: 0.4543 - accuracy: 0.8542 - f1_m: 0.8552 - precision_m: 0.8750 - recall_m: 0.8438 - val_loss: 0.3570 - val_accuracy: 0.8750 - val_f1_m: 0.8929 - val_precision_m: 0.9167 - val_recall_m: 0.8750\n",
      "Epoch 8/20\n",
      "24/24 [==============================] - 5s 192ms/step - loss: 0.5655 - accuracy: 0.8542 - f1_m: 0.8616 - precision_m: 0.8715 - recall_m: 0.8542 - val_loss: 0.4494 - val_accuracy: 0.7500 - val_f1_m: 0.7679 - val_precision_m: 0.7917 - val_recall_m: 0.7500\n",
      "Epoch 9/20\n",
      "24/24 [==============================] - 5s 197ms/step - loss: 0.7484 - accuracy: 0.7500 - f1_m: 0.7440 - precision_m: 0.7639 - recall_m: 0.7292 - val_loss: 0.5030 - val_accuracy: 0.8750 - val_f1_m: 0.8750 - val_precision_m: 0.8750 - val_recall_m: 0.8750\n",
      "Epoch 10/20\n",
      "24/24 [==============================] - 5s 191ms/step - loss: 0.3089 - accuracy: 0.8958 - f1_m: 0.8943 - precision_m: 0.9062 - recall_m: 0.8854 - val_loss: 0.6350 - val_accuracy: 0.7917 - val_f1_m: 0.8095 - val_precision_m: 0.8333 - val_recall_m: 0.7917\n",
      "Epoch 11/20\n",
      "24/24 [==============================] - 5s 191ms/step - loss: 0.3902 - accuracy: 0.8438 - f1_m: 0.8363 - precision_m: 0.8403 - recall_m: 0.8333 - val_loss: 0.4170 - val_accuracy: 0.7917 - val_f1_m: 0.7917 - val_precision_m: 0.7917 - val_recall_m: 0.7917\n",
      "Epoch 12/20\n",
      "24/24 [==============================] - 5s 197ms/step - loss: 0.6509 - accuracy: 0.7917 - f1_m: 0.7798 - precision_m: 0.7917 - recall_m: 0.7708 - val_loss: 0.5178 - val_accuracy: 0.8750 - val_f1_m: 0.8750 - val_precision_m: 0.8750 - val_recall_m: 0.8750\n",
      "Epoch 13/20\n",
      "24/24 [==============================] - 5s 194ms/step - loss: 0.3666 - accuracy: 0.8958 - f1_m: 0.8810 - precision_m: 0.9028 - recall_m: 0.8646 - val_loss: 0.2566 - val_accuracy: 0.8750 - val_f1_m: 0.8750 - val_precision_m: 0.8750 - val_recall_m: 0.8750\n",
      "Epoch 14/20\n",
      "24/24 [==============================] - 5s 191ms/step - loss: 0.3796 - accuracy: 0.8438 - f1_m: 0.8537 - precision_m: 0.8715 - recall_m: 0.8438 - val_loss: 0.2471 - val_accuracy: 0.9167 - val_f1_m: 0.9167 - val_precision_m: 0.9167 - val_recall_m: 0.9167\n",
      "Epoch 15/20\n",
      "24/24 [==============================] - 5s 193ms/step - loss: 0.4087 - accuracy: 0.8229 - f1_m: 0.8095 - precision_m: 0.8194 - recall_m: 0.8021 - val_loss: 0.5180 - val_accuracy: 0.7917 - val_f1_m: 0.7917 - val_precision_m: 0.7917 - val_recall_m: 0.7917\n",
      "Epoch 16/20\n",
      "24/24 [==============================] - 4s 187ms/step - loss: 0.3587 - accuracy: 0.8750 - f1_m: 0.8869 - precision_m: 0.9028 - recall_m: 0.8750 - val_loss: 0.4881 - val_accuracy: 0.9167 - val_f1_m: 0.9167 - val_precision_m: 0.9167 - val_recall_m: 0.9167\n",
      "Epoch 17/20\n",
      "24/24 [==============================] - 5s 191ms/step - loss: 0.4013 - accuracy: 0.8958 - f1_m: 0.8914 - precision_m: 0.8993 - recall_m: 0.8854 - val_loss: 0.7057 - val_accuracy: 0.8750 - val_f1_m: 0.8452 - val_precision_m: 0.9167 - val_recall_m: 0.7917\n",
      "Epoch 18/20\n",
      "24/24 [==============================] - 4s 187ms/step - loss: 0.3020 - accuracy: 0.8646 - f1_m: 0.8760 - precision_m: 0.8958 - recall_m: 0.8646 - val_loss: 0.2775 - val_accuracy: 0.9167 - val_f1_m: 0.9167 - val_precision_m: 0.9167 - val_recall_m: 0.9167\n",
      "Epoch 19/20\n",
      "24/24 [==============================] - 5s 194ms/step - loss: 0.3984 - accuracy: 0.8229 - f1_m: 0.7946 - precision_m: 0.8125 - recall_m: 0.7812 - val_loss: 0.1796 - val_accuracy: 0.9167 - val_f1_m: 0.9167 - val_precision_m: 0.9167 - val_recall_m: 0.9167\n",
      "Epoch 20/20\n",
      "24/24 [==============================] - 4s 187ms/step - loss: 0.3612 - accuracy: 0.8750 - f1_m: 0.8750 - precision_m: 0.8750 - recall_m: 0.8750 - val_loss: 0.1889 - val_accuracy: 0.9167 - val_f1_m: 0.9345 - val_precision_m: 0.9583 - val_recall_m: 0.9167\n",
      "Number of layers in the base model:  600\n",
      "trainable layers: 173\n",
      "FINE TUNED TRAINING:\n",
      "Epoch 20/40\n",
      "24/24 [==============================] - 7s 292ms/step - loss: 0.5239 - accuracy: 0.7812 - f1_m: 0.7887 - precision_m: 0.7986 - recall_m: 0.7812 - val_loss: 0.1897 - val_accuracy: 0.9583 - val_f1_m: 0.9583 - val_precision_m: 0.9583 - val_recall_m: 0.9583\n",
      "Epoch 21/40\n",
      "24/24 [==============================] - 5s 193ms/step - loss: 0.6023 - accuracy: 0.7708 - f1_m: 0.7753 - precision_m: 0.7951 - recall_m: 0.7604 - val_loss: 0.3517 - val_accuracy: 0.8750 - val_f1_m: 0.8611 - val_precision_m: 0.9167 - val_recall_m: 0.8333\n",
      "Epoch 22/40\n",
      "24/24 [==============================] - 5s 197ms/step - loss: 0.6154 - accuracy: 0.7500 - f1_m: 0.7485 - precision_m: 0.7812 - recall_m: 0.7292 - val_loss: 0.3718 - val_accuracy: 0.9167 - val_f1_m: 0.8929 - val_precision_m: 0.9167 - val_recall_m: 0.8750\n",
      "Epoch 23/40\n",
      "24/24 [==============================] - 5s 196ms/step - loss: 0.6053 - accuracy: 0.7812 - f1_m: 0.7803 - precision_m: 0.7951 - recall_m: 0.7708 - val_loss: 0.4828 - val_accuracy: 0.9167 - val_f1_m: 0.8631 - val_precision_m: 0.9028 - val_recall_m: 0.8333\n",
      "Epoch 24/40\n",
      "24/24 [==============================] - 5s 199ms/step - loss: 0.3807 - accuracy: 0.8438 - f1_m: 0.8363 - precision_m: 0.8403 - recall_m: 0.8333 - val_loss: 0.5933 - val_accuracy: 0.8333 - val_f1_m: 0.8274 - val_precision_m: 0.8750 - val_recall_m: 0.7917\n",
      "Epoch 25/40\n",
      "24/24 [==============================] - 5s 201ms/step - loss: 0.3627 - accuracy: 0.8750 - f1_m: 0.8750 - precision_m: 0.8750 - recall_m: 0.8750 - val_loss: 0.2386 - val_accuracy: 0.9583 - val_f1_m: 0.9583 - val_precision_m: 0.9583 - val_recall_m: 0.9583\n",
      "Epoch 26/40\n",
      "24/24 [==============================] - 5s 199ms/step - loss: 0.3000 - accuracy: 0.8958 - f1_m: 0.8834 - precision_m: 0.9132 - recall_m: 0.8646 - val_loss: 0.3675 - val_accuracy: 0.7917 - val_f1_m: 0.7917 - val_precision_m: 0.7917 - val_recall_m: 0.7917\n",
      "Epoch 27/40\n",
      "24/24 [==============================] - 5s 192ms/step - loss: 0.5225 - accuracy: 0.8021 - f1_m: 0.8065 - precision_m: 0.8125 - recall_m: 0.8021 - val_loss: 0.4736 - val_accuracy: 0.8333 - val_f1_m: 0.8512 - val_precision_m: 0.8750 - val_recall_m: 0.8333\n",
      "Epoch 28/40\n",
      "24/24 [==============================] - 5s 196ms/step - loss: 0.3036 - accuracy: 0.8958 - f1_m: 0.8795 - precision_m: 0.8854 - recall_m: 0.8750 - val_loss: 0.3536 - val_accuracy: 0.8333 - val_f1_m: 0.8452 - val_precision_m: 0.8611 - val_recall_m: 0.8333\n",
      "Epoch 29/40\n",
      "24/24 [==============================] - 5s 191ms/step - loss: 0.3869 - accuracy: 0.8438 - f1_m: 0.8408 - precision_m: 0.8507 - recall_m: 0.8333 - val_loss: 0.2492 - val_accuracy: 0.9167 - val_f1_m: 0.9345 - val_precision_m: 0.9583 - val_recall_m: 0.9167\n",
      "Epoch 30/40\n",
      "24/24 [==============================] - 5s 193ms/step - loss: 0.2420 - accuracy: 0.8958 - f1_m: 0.8899 - precision_m: 0.8958 - recall_m: 0.8854 - val_loss: 0.1416 - val_accuracy: 0.9583 - val_f1_m: 0.9583 - val_precision_m: 0.9583 - val_recall_m: 0.9583\n",
      "Epoch 31/40\n",
      "24/24 [==============================] - 5s 195ms/step - loss: 0.3098 - accuracy: 0.8750 - f1_m: 0.8824 - precision_m: 0.8924 - recall_m: 0.8750 - val_loss: 0.2706 - val_accuracy: 0.8750 - val_f1_m: 0.8929 - val_precision_m: 0.9167 - val_recall_m: 0.8750\n",
      "Epoch 32/40\n",
      "24/24 [==============================] - 5s 194ms/step - loss: 0.5140 - accuracy: 0.8333 - f1_m: 0.8378 - precision_m: 0.8438 - recall_m: 0.8333 - val_loss: 0.1463 - val_accuracy: 0.9167 - val_f1_m: 0.8929 - val_precision_m: 0.9167 - val_recall_m: 0.8750\n",
      "Epoch 33/40\n",
      "24/24 [==============================] - 5s 194ms/step - loss: 0.2732 - accuracy: 0.8854 - f1_m: 0.8839 - precision_m: 0.8958 - recall_m: 0.8750 - val_loss: 0.6763 - val_accuracy: 0.7917 - val_f1_m: 0.7917 - val_precision_m: 0.7917 - val_recall_m: 0.7917\n",
      "Epoch 34/40\n",
      "24/24 [==============================] - 5s 197ms/step - loss: 0.2508 - accuracy: 0.8750 - f1_m: 0.8795 - precision_m: 0.8854 - recall_m: 0.8750 - val_loss: 0.1469 - val_accuracy: 0.9583 - val_f1_m: 0.9583 - val_precision_m: 0.9583 - val_recall_m: 0.9583\n",
      "Epoch 35/40\n",
      "24/24 [==============================] - 5s 195ms/step - loss: 0.2958 - accuracy: 0.8958 - f1_m: 0.9003 - precision_m: 0.9062 - recall_m: 0.8958 - val_loss: 0.4096 - val_accuracy: 0.8333 - val_f1_m: 0.8333 - val_precision_m: 0.8333 - val_recall_m: 0.8333\n",
      "Epoch 36/40\n",
      "24/24 [==============================] - 5s 191ms/step - loss: 0.3156 - accuracy: 0.8750 - f1_m: 0.8765 - precision_m: 0.8924 - recall_m: 0.8646 - val_loss: 0.2580 - val_accuracy: 0.8333 - val_f1_m: 0.8194 - val_precision_m: 0.8750 - val_recall_m: 0.7917\n",
      "Epoch 37/40\n",
      "24/24 [==============================] - 5s 194ms/step - loss: 0.3126 - accuracy: 0.9062 - f1_m: 0.9062 - precision_m: 0.9062 - recall_m: 0.9062 - val_loss: 0.4628 - val_accuracy: 0.8750 - val_f1_m: 0.8750 - val_precision_m: 0.8750 - val_recall_m: 0.8750\n",
      "Epoch 38/40\n",
      "24/24 [==============================] - 5s 189ms/step - loss: 0.3930 - accuracy: 0.8646 - f1_m: 0.8676 - precision_m: 0.8854 - recall_m: 0.8542 - val_loss: 0.5467 - val_accuracy: 0.7917 - val_f1_m: 0.7917 - val_precision_m: 0.7917 - val_recall_m: 0.7917\n",
      "Epoch 39/40\n",
      "24/24 [==============================] - 5s 197ms/step - loss: 0.3141 - accuracy: 0.8854 - f1_m: 0.8854 - precision_m: 0.8854 - recall_m: 0.8854 - val_loss: 0.1495 - val_accuracy: 0.9167 - val_f1_m: 0.9167 - val_precision_m: 0.9167 - val_recall_m: 0.9167\n",
      "Epoch 40/40\n",
      "24/24 [==============================] - 5s 194ms/step - loss: 0.2985 - accuracy: 0.8646 - f1_m: 0.8646 - precision_m: 0.8785 - recall_m: 0.8542 - val_loss: 0.3946 - val_accuracy: 0.8750 - val_f1_m: 0.8750 - val_precision_m: 0.8750 - val_recall_m: 0.8750\n",
      "6/6 [==============================] - 1s 133ms/step - loss: 0.1046 - accuracy: 0.9583 - f1_m: 0.9583 - precision_m: 0.9583 - recall_m: 0.9583\n",
      "accuracy 0.9583333134651184\n",
      "f1_score 0.9583333134651184\n",
      "precision 0.9583333134651184\n",
      "recall 0.9583333134651184\n",
      "Found 96 validated image filenames belonging to 3 classes.\n",
      "Found 24 validated image filenames belonging to 3 classes.\n",
      "Tensor(\"relu/Relu:0\", shape=(None, 7, 7, 1664), dtype=float32)\n",
      "Epoch 1/20\n",
      "24/24 [==============================] - 7s 282ms/step - loss: 1.8000 - accuracy: 0.5104 - f1_m: 0.4960 - precision_m: 0.5069 - recall_m: 0.4896 - val_loss: 1.2505 - val_accuracy: 0.8333 - val_f1_m: 0.8333 - val_precision_m: 0.8333 - val_recall_m: 0.8333\n",
      "Epoch 2/20\n",
      "24/24 [==============================] - 5s 188ms/step - loss: 0.8623 - accuracy: 0.7292 - f1_m: 0.7143 - precision_m: 0.7222 - recall_m: 0.7083 - val_loss: 0.9630 - val_accuracy: 0.7083 - val_f1_m: 0.7083 - val_precision_m: 0.7083 - val_recall_m: 0.7083\n",
      "Epoch 3/20\n",
      "24/24 [==============================] - 4s 186ms/step - loss: 0.6449 - accuracy: 0.7292 - f1_m: 0.7247 - precision_m: 0.7465 - recall_m: 0.7083 - val_loss: 0.3388 - val_accuracy: 0.8750 - val_f1_m: 0.8750 - val_precision_m: 0.8750 - val_recall_m: 0.8750\n",
      "Epoch 4/20\n",
      "24/24 [==============================] - 4s 185ms/step - loss: 0.6644 - accuracy: 0.7917 - f1_m: 0.7842 - precision_m: 0.8021 - recall_m: 0.7708 - val_loss: 0.2870 - val_accuracy: 0.9167 - val_f1_m: 0.9167 - val_precision_m: 0.9167 - val_recall_m: 0.9167\n",
      "Epoch 5/20\n",
      "24/24 [==============================] - 4s 184ms/step - loss: 0.5116 - accuracy: 0.7500 - f1_m: 0.7684 - precision_m: 0.7951 - recall_m: 0.7500 - val_loss: 0.4056 - val_accuracy: 0.8333 - val_f1_m: 0.8333 - val_precision_m: 0.8333 - val_recall_m: 0.8333\n",
      "Epoch 6/20\n",
      "24/24 [==============================] - 4s 182ms/step - loss: 0.6572 - accuracy: 0.8021 - f1_m: 0.7991 - precision_m: 0.8090 - recall_m: 0.7917 - val_loss: 0.4184 - val_accuracy: 0.9167 - val_f1_m: 0.9167 - val_precision_m: 0.9167 - val_recall_m: 0.9167\n",
      "Epoch 7/20\n",
      "24/24 [==============================] - 4s 186ms/step - loss: 0.5244 - accuracy: 0.7812 - f1_m: 0.7589 - precision_m: 0.7847 - recall_m: 0.7396 - val_loss: 0.3094 - val_accuracy: 0.8750 - val_f1_m: 0.8750 - val_precision_m: 0.8750 - val_recall_m: 0.8750\n",
      "Epoch 8/20\n",
      "24/24 [==============================] - 4s 186ms/step - loss: 0.3181 - accuracy: 0.8958 - f1_m: 0.8914 - precision_m: 0.9132 - recall_m: 0.8750 - val_loss: 0.3865 - val_accuracy: 0.9167 - val_f1_m: 0.9167 - val_precision_m: 0.9167 - val_recall_m: 0.9167\n",
      "Epoch 9/20\n",
      "24/24 [==============================] - 5s 191ms/step - loss: 0.5293 - accuracy: 0.7812 - f1_m: 0.7827 - precision_m: 0.7986 - recall_m: 0.7708 - val_loss: 0.4658 - val_accuracy: 0.8750 - val_f1_m: 0.8750 - val_precision_m: 0.8750 - val_recall_m: 0.8750\n",
      "Epoch 10/20\n",
      "24/24 [==============================] - 4s 184ms/step - loss: 0.2904 - accuracy: 0.9167 - f1_m: 0.9152 - precision_m: 0.9271 - recall_m: 0.9062 - val_loss: 0.0456 - val_accuracy: 1.0000 - val_f1_m: 1.0000 - val_precision_m: 1.0000 - val_recall_m: 1.0000\n",
      "Epoch 11/20\n",
      "24/24 [==============================] - 4s 183ms/step - loss: 0.5514 - accuracy: 0.7604 - f1_m: 0.7574 - precision_m: 0.7674 - recall_m: 0.7500 - val_loss: 0.5164 - val_accuracy: 0.7917 - val_f1_m: 0.7917 - val_precision_m: 0.7917 - val_recall_m: 0.7917\n",
      "Epoch 12/20\n",
      "24/24 [==============================] - 5s 189ms/step - loss: 0.6415 - accuracy: 0.7500 - f1_m: 0.7520 - precision_m: 0.7708 - recall_m: 0.7396 - val_loss: 0.2270 - val_accuracy: 0.9583 - val_f1_m: 0.9345 - val_precision_m: 0.9583 - val_recall_m: 0.9167\n",
      "Epoch 13/20\n",
      "24/24 [==============================] - 5s 192ms/step - loss: 0.5944 - accuracy: 0.7708 - f1_m: 0.7560 - precision_m: 0.7639 - recall_m: 0.7500 - val_loss: 0.5052 - val_accuracy: 0.8750 - val_f1_m: 0.8750 - val_precision_m: 0.8750 - val_recall_m: 0.8750\n",
      "Epoch 14/20\n",
      "24/24 [==============================] - 4s 186ms/step - loss: 0.4382 - accuracy: 0.8333 - f1_m: 0.8105 - precision_m: 0.8264 - recall_m: 0.8021 - val_loss: 0.0749 - val_accuracy: 0.9583 - val_f1_m: 0.9583 - val_precision_m: 0.9583 - val_recall_m: 0.9583\n",
      "Epoch 15/20\n",
      "24/24 [==============================] - 5s 192ms/step - loss: 0.3886 - accuracy: 0.8229 - f1_m: 0.8274 - precision_m: 0.8333 - recall_m: 0.8229 - val_loss: 0.0694 - val_accuracy: 0.9583 - val_f1_m: 0.9583 - val_precision_m: 0.9583 - val_recall_m: 0.9583\n",
      "Epoch 16/20\n",
      "24/24 [==============================] - 5s 190ms/step - loss: 0.4649 - accuracy: 0.8125 - f1_m: 0.8185 - precision_m: 0.8264 - recall_m: 0.8125 - val_loss: 0.1744 - val_accuracy: 0.9167 - val_f1_m: 0.9167 - val_precision_m: 0.9167 - val_recall_m: 0.9167\n",
      "Epoch 17/20\n",
      "24/24 [==============================] - 5s 190ms/step - loss: 0.5259 - accuracy: 0.7812 - f1_m: 0.7788 - precision_m: 0.7917 - recall_m: 0.7708 - val_loss: 0.1609 - val_accuracy: 0.9167 - val_f1_m: 0.9167 - val_precision_m: 0.9167 - val_recall_m: 0.9167\n",
      "Epoch 18/20\n",
      "24/24 [==============================] - 4s 186ms/step - loss: 0.4635 - accuracy: 0.8438 - f1_m: 0.8403 - precision_m: 0.8542 - recall_m: 0.8333 - val_loss: 0.2446 - val_accuracy: 0.8750 - val_f1_m: 0.8750 - val_precision_m: 0.8750 - val_recall_m: 0.8750\n",
      "Epoch 19/20\n",
      "24/24 [==============================] - 4s 186ms/step - loss: 0.3017 - accuracy: 0.8958 - f1_m: 0.8909 - precision_m: 0.9167 - recall_m: 0.8750 - val_loss: 0.0872 - val_accuracy: 0.9583 - val_f1_m: 0.9583 - val_precision_m: 0.9583 - val_recall_m: 0.9583\n",
      "Epoch 20/20\n",
      "24/24 [==============================] - 4s 187ms/step - loss: 0.3764 - accuracy: 0.8750 - f1_m: 0.8720 - precision_m: 0.8819 - recall_m: 0.8646 - val_loss: 0.1572 - val_accuracy: 0.9583 - val_f1_m: 0.9762 - val_precision_m: 1.0000 - val_recall_m: 0.9583\n",
      "Number of layers in the base model:  600\n",
      "trainable layers: 173\n",
      "FINE TUNED TRAINING:\n",
      "Epoch 20/40\n",
      "24/24 [==============================] - 7s 288ms/step - loss: 0.4453 - accuracy: 0.8229 - f1_m: 0.8348 - precision_m: 0.8507 - recall_m: 0.8229 - val_loss: 0.2266 - val_accuracy: 0.9167 - val_f1_m: 0.9167 - val_precision_m: 0.9167 - val_recall_m: 0.9167\n",
      "Epoch 21/40\n",
      "24/24 [==============================] - 5s 193ms/step - loss: 0.5708 - accuracy: 0.7917 - f1_m: 0.7902 - precision_m: 0.8021 - recall_m: 0.7812 - val_loss: 0.3264 - val_accuracy: 0.9167 - val_f1_m: 0.9167 - val_precision_m: 0.9167 - val_recall_m: 0.9167\n",
      "Epoch 22/40\n",
      "24/24 [==============================] - 5s 190ms/step - loss: 0.5012 - accuracy: 0.8333 - f1_m: 0.8318 - precision_m: 0.8438 - recall_m: 0.8229 - val_loss: 0.3704 - val_accuracy: 0.9583 - val_f1_m: 0.9583 - val_precision_m: 0.9583 - val_recall_m: 0.9583\n",
      "Epoch 23/40\n",
      "24/24 [==============================] - 5s 191ms/step - loss: 0.3365 - accuracy: 0.8750 - f1_m: 0.8750 - precision_m: 0.8889 - recall_m: 0.8646 - val_loss: 0.2174 - val_accuracy: 0.9167 - val_f1_m: 0.9167 - val_precision_m: 0.9167 - val_recall_m: 0.9167\n",
      "Epoch 24/40\n",
      "24/24 [==============================] - 5s 191ms/step - loss: 0.3380 - accuracy: 0.8542 - f1_m: 0.8586 - precision_m: 0.8646 - recall_m: 0.8542 - val_loss: 0.3169 - val_accuracy: 0.9167 - val_f1_m: 0.9167 - val_precision_m: 0.9167 - val_recall_m: 0.9167\n",
      "Epoch 25/40\n",
      "24/24 [==============================] - 5s 192ms/step - loss: 0.4267 - accuracy: 0.8229 - f1_m: 0.8269 - precision_m: 0.8507 - recall_m: 0.8125 - val_loss: 0.2487 - val_accuracy: 0.9167 - val_f1_m: 0.9107 - val_precision_m: 0.9583 - val_recall_m: 0.8750\n",
      "Epoch 26/40\n",
      "24/24 [==============================] - 5s 196ms/step - loss: 0.3751 - accuracy: 0.8542 - f1_m: 0.8571 - precision_m: 0.8611 - recall_m: 0.8542 - val_loss: 0.2186 - val_accuracy: 0.9167 - val_f1_m: 0.9167 - val_precision_m: 0.9167 - val_recall_m: 0.9167\n",
      "Epoch 27/40\n",
      "24/24 [==============================] - 5s 191ms/step - loss: 0.1786 - accuracy: 0.8958 - f1_m: 0.9003 - precision_m: 0.9062 - recall_m: 0.8958 - val_loss: 0.1933 - val_accuracy: 0.9583 - val_f1_m: 0.9583 - val_precision_m: 0.9583 - val_recall_m: 0.9583\n",
      "Epoch 28/40\n",
      "24/24 [==============================] - 5s 193ms/step - loss: 0.3009 - accuracy: 0.8750 - f1_m: 0.8631 - precision_m: 0.8889 - recall_m: 0.8438 - val_loss: 0.2418 - val_accuracy: 0.9167 - val_f1_m: 0.8869 - val_precision_m: 0.9028 - val_recall_m: 0.8750\n",
      "Epoch 29/40\n",
      "24/24 [==============================] - 5s 192ms/step - loss: 0.3280 - accuracy: 0.8646 - f1_m: 0.8646 - precision_m: 0.8646 - recall_m: 0.8646 - val_loss: 0.0869 - val_accuracy: 0.9583 - val_f1_m: 0.9583 - val_precision_m: 0.9583 - val_recall_m: 0.9583\n",
      "Epoch 30/40\n",
      "24/24 [==============================] - 5s 192ms/step - loss: 0.5451 - accuracy: 0.8333 - f1_m: 0.8378 - precision_m: 0.8438 - recall_m: 0.8333 - val_loss: 0.2769 - val_accuracy: 0.9583 - val_f1_m: 0.9583 - val_precision_m: 0.9583 - val_recall_m: 0.9583\n",
      "Epoch 31/40\n",
      "24/24 [==============================] - 5s 192ms/step - loss: 0.3437 - accuracy: 0.8646 - f1_m: 0.8574 - precision_m: 0.8924 - recall_m: 0.8438 - val_loss: 0.4817 - val_accuracy: 0.7917 - val_f1_m: 0.7679 - val_precision_m: 0.7917 - val_recall_m: 0.7500\n",
      "Epoch 32/40\n",
      "24/24 [==============================] - 5s 190ms/step - loss: 0.3013 - accuracy: 0.8542 - f1_m: 0.8700 - precision_m: 0.8958 - recall_m: 0.8542 - val_loss: 0.3685 - val_accuracy: 0.8750 - val_f1_m: 0.8750 - val_precision_m: 0.8750 - val_recall_m: 0.8750\n",
      "Epoch 33/40\n",
      "24/24 [==============================] - 4s 187ms/step - loss: 0.3173 - accuracy: 0.8646 - f1_m: 0.8646 - precision_m: 0.8646 - recall_m: 0.8646 - val_loss: 0.5596 - val_accuracy: 0.8333 - val_f1_m: 0.8333 - val_precision_m: 0.8333 - val_recall_m: 0.8333\n",
      "Epoch 34/40\n",
      "24/24 [==============================] - 5s 196ms/step - loss: 0.4499 - accuracy: 0.8125 - f1_m: 0.8304 - precision_m: 0.8542 - recall_m: 0.8125 - val_loss: 0.2408 - val_accuracy: 0.8750 - val_f1_m: 0.8750 - val_precision_m: 0.8750 - val_recall_m: 0.8750\n",
      "Epoch 35/40\n",
      "24/24 [==============================] - 5s 190ms/step - loss: 0.3282 - accuracy: 0.8438 - f1_m: 0.8423 - precision_m: 0.8542 - recall_m: 0.8333 - val_loss: 0.0919 - val_accuracy: 0.9583 - val_f1_m: 0.9583 - val_precision_m: 0.9583 - val_recall_m: 0.9583\n",
      "Epoch 36/40\n",
      "24/24 [==============================] - 5s 189ms/step - loss: 0.3152 - accuracy: 0.9062 - f1_m: 0.9107 - precision_m: 0.9167 - recall_m: 0.9062 - val_loss: 0.3598 - val_accuracy: 0.8333 - val_f1_m: 0.8333 - val_precision_m: 0.8333 - val_recall_m: 0.8333\n",
      "Epoch 37/40\n",
      "24/24 [==============================] - 5s 188ms/step - loss: 0.2180 - accuracy: 0.8958 - f1_m: 0.9003 - precision_m: 0.9062 - recall_m: 0.8958 - val_loss: 0.4176 - val_accuracy: 0.8333 - val_f1_m: 0.8333 - val_precision_m: 0.8333 - val_recall_m: 0.8333\n",
      "Epoch 38/40\n",
      "24/24 [==============================] - 5s 192ms/step - loss: 0.3318 - accuracy: 0.8438 - f1_m: 0.8527 - precision_m: 0.8646 - recall_m: 0.8438 - val_loss: 0.2740 - val_accuracy: 0.9167 - val_f1_m: 0.9167 - val_precision_m: 0.9167 - val_recall_m: 0.9167\n",
      "Epoch 39/40\n",
      "24/24 [==============================] - 5s 193ms/step - loss: 0.1425 - accuracy: 0.9583 - f1_m: 0.9583 - precision_m: 0.9583 - recall_m: 0.9583 - val_loss: 0.1717 - val_accuracy: 0.8750 - val_f1_m: 0.8750 - val_precision_m: 0.8750 - val_recall_m: 0.8750\n",
      "Epoch 40/40\n",
      "24/24 [==============================] - 5s 191ms/step - loss: 0.3481 - accuracy: 0.8438 - f1_m: 0.8452 - precision_m: 0.8611 - recall_m: 0.8333 - val_loss: 0.1772 - val_accuracy: 0.9167 - val_f1_m: 0.9167 - val_precision_m: 0.9167 - val_recall_m: 0.9167\n",
      "6/6 [==============================] - 1s 117ms/step - loss: 0.6159 - accuracy: 0.8750 - f1_m: 0.8750 - precision_m: 0.8750 - recall_m: 0.8750\n",
      "accuracy 0.875\n",
      "f1_score 0.875\n",
      "precision 0.875\n",
      "recall 0.875\n",
      "Found 96 validated image filenames belonging to 3 classes.\n",
      "Found 24 validated image filenames belonging to 3 classes.\n",
      "Tensor(\"relu/Relu:0\", shape=(None, 7, 7, 1664), dtype=float32)\n",
      "Epoch 1/20\n",
      "24/24 [==============================] - 7s 276ms/step - loss: 1.7417 - accuracy: 0.5208 - f1_m: 0.5045 - precision_m: 0.5104 - recall_m: 0.5000 - val_loss: 1.1407 - val_accuracy: 0.7083 - val_f1_m: 0.7202 - val_precision_m: 0.7361 - val_recall_m: 0.7083\n",
      "Epoch 2/20\n",
      "24/24 [==============================] - 5s 189ms/step - loss: 0.5090 - accuracy: 0.7812 - f1_m: 0.7783 - precision_m: 0.7882 - recall_m: 0.7708 - val_loss: 1.9569 - val_accuracy: 0.5417 - val_f1_m: 0.5417 - val_precision_m: 0.5417 - val_recall_m: 0.5417\n",
      "Epoch 3/20\n",
      "24/24 [==============================] - 5s 190ms/step - loss: 0.8812 - accuracy: 0.7604 - f1_m: 0.7634 - precision_m: 0.7674 - recall_m: 0.7604 - val_loss: 0.6400 - val_accuracy: 0.7917 - val_f1_m: 0.7917 - val_precision_m: 0.7917 - val_recall_m: 0.7917\n",
      "Epoch 4/20\n",
      "24/24 [==============================] - 4s 185ms/step - loss: 0.7617 - accuracy: 0.7188 - f1_m: 0.7024 - precision_m: 0.7222 - recall_m: 0.6875 - val_loss: 1.1782 - val_accuracy: 0.6667 - val_f1_m: 0.6845 - val_precision_m: 0.7083 - val_recall_m: 0.6667\n",
      "Epoch 5/20\n",
      "24/24 [==============================] - 4s 185ms/step - loss: 0.5859 - accuracy: 0.7812 - f1_m: 0.7842 - precision_m: 0.7882 - recall_m: 0.7812 - val_loss: 0.9429 - val_accuracy: 0.7917 - val_f1_m: 0.7917 - val_precision_m: 0.7917 - val_recall_m: 0.7917\n",
      "Epoch 6/20\n",
      "24/24 [==============================] - 4s 184ms/step - loss: 0.4423 - accuracy: 0.8229 - f1_m: 0.8304 - precision_m: 0.8403 - recall_m: 0.8229 - val_loss: 0.4001 - val_accuracy: 0.9167 - val_f1_m: 0.9167 - val_precision_m: 0.9167 - val_recall_m: 0.9167\n",
      "Epoch 7/20\n",
      "24/24 [==============================] - 4s 184ms/step - loss: 0.5061 - accuracy: 0.8125 - f1_m: 0.8199 - precision_m: 0.8438 - recall_m: 0.8021 - val_loss: 0.7406 - val_accuracy: 0.7917 - val_f1_m: 0.7917 - val_precision_m: 0.7917 - val_recall_m: 0.7917\n",
      "Epoch 8/20\n",
      "24/24 [==============================] - 4s 185ms/step - loss: 0.5905 - accuracy: 0.7604 - f1_m: 0.7679 - precision_m: 0.7778 - recall_m: 0.7604 - val_loss: 0.4432 - val_accuracy: 0.8333 - val_f1_m: 0.8631 - val_precision_m: 0.9028 - val_recall_m: 0.8333\n",
      "Epoch 9/20\n",
      "24/24 [==============================] - 4s 183ms/step - loss: 0.4756 - accuracy: 0.8125 - f1_m: 0.8080 - precision_m: 0.8160 - recall_m: 0.8021 - val_loss: 0.4681 - val_accuracy: 0.9167 - val_f1_m: 0.8929 - val_precision_m: 0.9167 - val_recall_m: 0.8750\n",
      "Epoch 10/20\n",
      "24/24 [==============================] - 4s 183ms/step - loss: 0.4588 - accuracy: 0.8021 - f1_m: 0.8095 - precision_m: 0.8333 - recall_m: 0.7917 - val_loss: 0.3354 - val_accuracy: 0.8750 - val_f1_m: 0.8750 - val_precision_m: 0.8750 - val_recall_m: 0.8750\n",
      "Epoch 11/20\n",
      "24/24 [==============================] - 4s 187ms/step - loss: 0.3963 - accuracy: 0.8333 - f1_m: 0.8348 - precision_m: 0.8507 - recall_m: 0.8229 - val_loss: 0.2673 - val_accuracy: 0.9167 - val_f1_m: 0.9167 - val_precision_m: 0.9167 - val_recall_m: 0.9167\n",
      "Epoch 12/20\n",
      "24/24 [==============================] - 4s 187ms/step - loss: 0.4090 - accuracy: 0.8542 - f1_m: 0.8527 - precision_m: 0.8646 - recall_m: 0.8438 - val_loss: 0.7194 - val_accuracy: 0.7917 - val_f1_m: 0.7917 - val_precision_m: 0.7917 - val_recall_m: 0.7917\n",
      "Epoch 13/20\n",
      "24/24 [==============================] - 5s 188ms/step - loss: 0.4700 - accuracy: 0.8750 - f1_m: 0.8750 - precision_m: 0.8889 - recall_m: 0.8646 - val_loss: 0.1416 - val_accuracy: 0.9583 - val_f1_m: 0.9583 - val_precision_m: 0.9583 - val_recall_m: 0.9583\n",
      "Epoch 14/20\n",
      "24/24 [==============================] - 4s 184ms/step - loss: 0.4216 - accuracy: 0.8333 - f1_m: 0.8125 - precision_m: 0.8264 - recall_m: 0.8021 - val_loss: 0.4095 - val_accuracy: 0.9167 - val_f1_m: 0.9167 - val_precision_m: 0.9167 - val_recall_m: 0.9167\n",
      "Epoch 15/20\n",
      "24/24 [==============================] - 5s 189ms/step - loss: 0.4923 - accuracy: 0.8333 - f1_m: 0.8274 - precision_m: 0.8333 - recall_m: 0.8229 - val_loss: 0.2318 - val_accuracy: 0.9167 - val_f1_m: 0.9345 - val_precision_m: 0.9583 - val_recall_m: 0.9167\n",
      "Epoch 16/20\n",
      "24/24 [==============================] - 4s 184ms/step - loss: 0.3773 - accuracy: 0.8542 - f1_m: 0.8512 - precision_m: 0.8611 - recall_m: 0.8438 - val_loss: 0.1437 - val_accuracy: 0.9583 - val_f1_m: 0.9583 - val_precision_m: 0.9583 - val_recall_m: 0.9583\n",
      "Epoch 17/20\n",
      "24/24 [==============================] - 4s 186ms/step - loss: 0.1663 - accuracy: 0.9583 - f1_m: 0.9330 - precision_m: 0.9549 - recall_m: 0.9167 - val_loss: 0.5323 - val_accuracy: 0.8750 - val_f1_m: 0.8750 - val_precision_m: 0.8750 - val_recall_m: 0.8750\n",
      "Epoch 18/20\n",
      "24/24 [==============================] - 4s 186ms/step - loss: 0.5476 - accuracy: 0.8333 - f1_m: 0.8229 - precision_m: 0.8229 - recall_m: 0.8229 - val_loss: 0.1004 - val_accuracy: 1.0000 - val_f1_m: 1.0000 - val_precision_m: 1.0000 - val_recall_m: 1.0000\n",
      "Epoch 19/20\n",
      "24/24 [==============================] - 5s 188ms/step - loss: 0.3644 - accuracy: 0.8750 - f1_m: 0.8810 - precision_m: 0.9028 - recall_m: 0.8646 - val_loss: 0.3900 - val_accuracy: 0.8750 - val_f1_m: 0.8750 - val_precision_m: 0.8750 - val_recall_m: 0.8750\n",
      "Epoch 20/20\n",
      "24/24 [==============================] - 5s 189ms/step - loss: 0.2851 - accuracy: 0.8854 - f1_m: 0.8810 - precision_m: 0.8889 - recall_m: 0.8750 - val_loss: 0.2863 - val_accuracy: 0.8333 - val_f1_m: 0.8333 - val_precision_m: 0.8333 - val_recall_m: 0.8333\n",
      "Number of layers in the base model:  600\n",
      "trainable layers: 173\n",
      "FINE TUNED TRAINING:\n",
      "Epoch 20/40\n",
      "24/24 [==============================] - 7s 284ms/step - loss: 0.5742 - accuracy: 0.8021 - f1_m: 0.8051 - precision_m: 0.8090 - recall_m: 0.8021 - val_loss: 0.3043 - val_accuracy: 0.8333 - val_f1_m: 0.8333 - val_precision_m: 0.8333 - val_recall_m: 0.8333\n",
      "Epoch 21/40\n",
      "24/24 [==============================] - 5s 192ms/step - loss: 0.6662 - accuracy: 0.7604 - f1_m: 0.7366 - precision_m: 0.7465 - recall_m: 0.7292 - val_loss: 0.1653 - val_accuracy: 0.9583 - val_f1_m: 0.9345 - val_precision_m: 0.9583 - val_recall_m: 0.9167\n",
      "Epoch 22/40\n",
      "24/24 [==============================] - 5s 189ms/step - loss: 0.4588 - accuracy: 0.8646 - f1_m: 0.8601 - precision_m: 0.8681 - recall_m: 0.8542 - val_loss: 0.2350 - val_accuracy: 0.9583 - val_f1_m: 0.9583 - val_precision_m: 0.9583 - val_recall_m: 0.9583\n",
      "Epoch 23/40\n",
      "24/24 [==============================] - 5s 195ms/step - loss: 0.4071 - accuracy: 0.8229 - f1_m: 0.8135 - precision_m: 0.8333 - recall_m: 0.8021 - val_loss: 0.1428 - val_accuracy: 0.9583 - val_f1_m: 0.9583 - val_precision_m: 0.9583 - val_recall_m: 0.9583\n",
      "Epoch 24/40\n",
      "24/24 [==============================] - 5s 190ms/step - loss: 0.2577 - accuracy: 0.9062 - f1_m: 0.9152 - precision_m: 0.9271 - recall_m: 0.9062 - val_loss: 0.3568 - val_accuracy: 0.9167 - val_f1_m: 0.9167 - val_precision_m: 0.9167 - val_recall_m: 0.9167\n",
      "Epoch 25/40\n",
      "24/24 [==============================] - 5s 190ms/step - loss: 0.5407 - accuracy: 0.8125 - f1_m: 0.8125 - precision_m: 0.8125 - recall_m: 0.8125 - val_loss: 0.1979 - val_accuracy: 0.9167 - val_f1_m: 0.9048 - val_precision_m: 0.9444 - val_recall_m: 0.8750\n",
      "Epoch 26/40\n",
      "24/24 [==============================] - 5s 192ms/step - loss: 0.3537 - accuracy: 0.8646 - f1_m: 0.8586 - precision_m: 0.8646 - recall_m: 0.8542 - val_loss: 0.2763 - val_accuracy: 0.7917 - val_f1_m: 0.7917 - val_precision_m: 0.7917 - val_recall_m: 0.7917\n",
      "Epoch 27/40\n",
      "24/24 [==============================] - 5s 196ms/step - loss: 0.2497 - accuracy: 0.9062 - f1_m: 0.9092 - precision_m: 0.9271 - recall_m: 0.8958 - val_loss: 0.2197 - val_accuracy: 0.9583 - val_f1_m: 0.9345 - val_precision_m: 0.9583 - val_recall_m: 0.9167\n",
      "Epoch 28/40\n",
      "24/24 [==============================] - 5s 189ms/step - loss: 0.5582 - accuracy: 0.7604 - f1_m: 0.7500 - precision_m: 0.7639 - recall_m: 0.7396 - val_loss: 0.2382 - val_accuracy: 0.9583 - val_f1_m: 0.9583 - val_precision_m: 0.9583 - val_recall_m: 0.9583\n",
      "Epoch 29/40\n",
      "24/24 [==============================] - 5s 194ms/step - loss: 0.5324 - accuracy: 0.8021 - f1_m: 0.7991 - precision_m: 0.8090 - recall_m: 0.7917 - val_loss: 0.3597 - val_accuracy: 0.9167 - val_f1_m: 0.8929 - val_precision_m: 0.9167 - val_recall_m: 0.8750\n",
      "Epoch 30/40\n",
      "24/24 [==============================] - 5s 190ms/step - loss: 0.4378 - accuracy: 0.8438 - f1_m: 0.8170 - precision_m: 0.8229 - recall_m: 0.8125 - val_loss: 0.2163 - val_accuracy: 0.8750 - val_f1_m: 0.8929 - val_precision_m: 0.9167 - val_recall_m: 0.8750\n",
      "Epoch 31/40\n",
      "24/24 [==============================] - 4s 187ms/step - loss: 0.3270 - accuracy: 0.8125 - f1_m: 0.8284 - precision_m: 0.8542 - recall_m: 0.8125 - val_loss: 0.1566 - val_accuracy: 0.9167 - val_f1_m: 0.9345 - val_precision_m: 0.9583 - val_recall_m: 0.9167\n",
      "Epoch 32/40\n",
      "24/24 [==============================] - 5s 190ms/step - loss: 0.3965 - accuracy: 0.8646 - f1_m: 0.8586 - precision_m: 0.8646 - recall_m: 0.8542 - val_loss: 0.2743 - val_accuracy: 0.9583 - val_f1_m: 0.9583 - val_precision_m: 0.9583 - val_recall_m: 0.9583\n",
      "Epoch 33/40\n",
      "24/24 [==============================] - 5s 196ms/step - loss: 0.4283 - accuracy: 0.8646 - f1_m: 0.8467 - precision_m: 0.8646 - recall_m: 0.8333 - val_loss: 0.3912 - val_accuracy: 0.8750 - val_f1_m: 0.8929 - val_precision_m: 0.9167 - val_recall_m: 0.8750\n",
      "Epoch 34/40\n",
      "24/24 [==============================] - 5s 196ms/step - loss: 0.4594 - accuracy: 0.8438 - f1_m: 0.8408 - precision_m: 0.8507 - recall_m: 0.8333 - val_loss: 0.4884 - val_accuracy: 0.8750 - val_f1_m: 0.8750 - val_precision_m: 0.8750 - val_recall_m: 0.8750\n",
      "Epoch 35/40\n",
      "24/24 [==============================] - 5s 193ms/step - loss: 0.2715 - accuracy: 0.8750 - f1_m: 0.8750 - precision_m: 0.8750 - recall_m: 0.8750 - val_loss: 0.5597 - val_accuracy: 0.7500 - val_f1_m: 0.7500 - val_precision_m: 0.7500 - val_recall_m: 0.7500\n",
      "Epoch 36/40\n",
      "24/24 [==============================] - 5s 189ms/step - loss: 0.3984 - accuracy: 0.8438 - f1_m: 0.8348 - precision_m: 0.8507 - recall_m: 0.8229 - val_loss: 0.5424 - val_accuracy: 0.8750 - val_f1_m: 0.8750 - val_precision_m: 0.8750 - val_recall_m: 0.8750\n",
      "Epoch 37/40\n",
      "24/24 [==============================] - 5s 191ms/step - loss: 0.4073 - accuracy: 0.8854 - f1_m: 0.8661 - precision_m: 0.8958 - recall_m: 0.8438 - val_loss: 0.2104 - val_accuracy: 0.9167 - val_f1_m: 0.8929 - val_precision_m: 0.9167 - val_recall_m: 0.8750\n",
      "Epoch 38/40\n",
      "24/24 [==============================] - 5s 191ms/step - loss: 0.4241 - accuracy: 0.8438 - f1_m: 0.8348 - precision_m: 0.8507 - recall_m: 0.8229 - val_loss: 0.2692 - val_accuracy: 0.9583 - val_f1_m: 0.9583 - val_precision_m: 0.9583 - val_recall_m: 0.9583\n",
      "Epoch 39/40\n",
      "24/24 [==============================] - 5s 192ms/step - loss: 0.3863 - accuracy: 0.8958 - f1_m: 0.8869 - precision_m: 0.9028 - recall_m: 0.8750 - val_loss: 0.2573 - val_accuracy: 0.8750 - val_f1_m: 0.8869 - val_precision_m: 0.9028 - val_recall_m: 0.8750\n",
      "Epoch 40/40\n",
      "24/24 [==============================] - 5s 192ms/step - loss: 0.2409 - accuracy: 0.8750 - f1_m: 0.8750 - precision_m: 0.8889 - recall_m: 0.8646 - val_loss: 0.1306 - val_accuracy: 0.9583 - val_f1_m: 0.9583 - val_precision_m: 0.9583 - val_recall_m: 0.9583\n",
      "6/6 [==============================] - 1s 137ms/step - loss: 0.2148 - accuracy: 0.9167 - f1_m: 0.9167 - precision_m: 0.9167 - recall_m: 0.9167\n",
      "accuracy 0.9166666865348816\n",
      "f1_score 0.9166666865348816\n",
      "precision 0.9166666865348816\n",
      "recall 0.9166666865348816\n",
      "Found 96 validated image filenames belonging to 3 classes.\n",
      "Found 24 validated image filenames belonging to 3 classes.\n",
      "Tensor(\"relu/Relu:0\", shape=(None, 7, 7, 1664), dtype=float32)\n",
      "Epoch 1/20\n",
      "24/24 [==============================] - 7s 278ms/step - loss: 1.7054 - accuracy: 0.4583 - f1_m: 0.4509 - precision_m: 0.4688 - recall_m: 0.4375 - val_loss: 1.7805 - val_accuracy: 0.7083 - val_f1_m: 0.7083 - val_precision_m: 0.7083 - val_recall_m: 0.7083\n",
      "Epoch 2/20\n",
      "24/24 [==============================] - 5s 190ms/step - loss: 0.7909 - accuracy: 0.6667 - f1_m: 0.6592 - precision_m: 0.6632 - recall_m: 0.6562 - val_loss: 1.2921 - val_accuracy: 0.5833 - val_f1_m: 0.6071 - val_precision_m: 0.6389 - val_recall_m: 0.5833\n",
      "Epoch 3/20\n",
      "24/24 [==============================] - 4s 186ms/step - loss: 0.6468 - accuracy: 0.7604 - f1_m: 0.7664 - precision_m: 0.7743 - recall_m: 0.7604 - val_loss: 0.9127 - val_accuracy: 0.7500 - val_f1_m: 0.7500 - val_precision_m: 0.7500 - val_recall_m: 0.7500\n",
      "Epoch 4/20\n",
      "24/24 [==============================] - 5s 190ms/step - loss: 0.5857 - accuracy: 0.8229 - f1_m: 0.8274 - precision_m: 0.8333 - recall_m: 0.8229 - val_loss: 1.4801 - val_accuracy: 0.7083 - val_f1_m: 0.7083 - val_precision_m: 0.7083 - val_recall_m: 0.7083\n",
      "Epoch 5/20\n",
      "24/24 [==============================] - 5s 188ms/step - loss: 0.5751 - accuracy: 0.7917 - f1_m: 0.7912 - precision_m: 0.8090 - recall_m: 0.7812 - val_loss: 1.3246 - val_accuracy: 0.7500 - val_f1_m: 0.7560 - val_precision_m: 0.7639 - val_recall_m: 0.7500\n",
      "Epoch 6/20\n",
      "24/24 [==============================] - 4s 186ms/step - loss: 0.5754 - accuracy: 0.8021 - f1_m: 0.8095 - precision_m: 0.8333 - recall_m: 0.7917 - val_loss: 0.7493 - val_accuracy: 0.8333 - val_f1_m: 0.8333 - val_precision_m: 0.8333 - val_recall_m: 0.8333\n",
      "Epoch 7/20\n",
      "24/24 [==============================] - 5s 188ms/step - loss: 0.4298 - accuracy: 0.8021 - f1_m: 0.8095 - precision_m: 0.8194 - recall_m: 0.8021 - val_loss: 0.4990 - val_accuracy: 0.8333 - val_f1_m: 0.8333 - val_precision_m: 0.8333 - val_recall_m: 0.8333\n",
      "Epoch 8/20\n",
      "24/24 [==============================] - 5s 188ms/step - loss: 0.4918 - accuracy: 0.8542 - f1_m: 0.8408 - precision_m: 0.8507 - recall_m: 0.8333 - val_loss: 0.4521 - val_accuracy: 0.8750 - val_f1_m: 0.8750 - val_precision_m: 0.8750 - val_recall_m: 0.8750\n",
      "Epoch 9/20\n",
      "24/24 [==============================] - 4s 183ms/step - loss: 0.4003 - accuracy: 0.8333 - f1_m: 0.8140 - precision_m: 0.8438 - recall_m: 0.7917 - val_loss: 0.6001 - val_accuracy: 0.8333 - val_f1_m: 0.8333 - val_precision_m: 0.8333 - val_recall_m: 0.8333\n",
      "Epoch 10/20\n",
      "24/24 [==============================] - 4s 185ms/step - loss: 0.3249 - accuracy: 0.8646 - f1_m: 0.8676 - precision_m: 0.8854 - recall_m: 0.8542 - val_loss: 0.9500 - val_accuracy: 0.7917 - val_f1_m: 0.7679 - val_precision_m: 0.7917 - val_recall_m: 0.7500\n",
      "Epoch 11/20\n",
      "24/24 [==============================] - 4s 181ms/step - loss: 0.2053 - accuracy: 0.9479 - f1_m: 0.9509 - precision_m: 0.9549 - recall_m: 0.9479 - val_loss: 0.5420 - val_accuracy: 0.8333 - val_f1_m: 0.8333 - val_precision_m: 0.8333 - val_recall_m: 0.8333\n",
      "Epoch 12/20\n",
      "24/24 [==============================] - 5s 189ms/step - loss: 0.4447 - accuracy: 0.8229 - f1_m: 0.8214 - precision_m: 0.8333 - recall_m: 0.8125 - val_loss: 0.2264 - val_accuracy: 0.9167 - val_f1_m: 0.9345 - val_precision_m: 0.9583 - val_recall_m: 0.9167\n",
      "Epoch 13/20\n",
      "24/24 [==============================] - 5s 189ms/step - loss: 0.3467 - accuracy: 0.8958 - f1_m: 0.8958 - precision_m: 0.8958 - recall_m: 0.8958 - val_loss: 0.5155 - val_accuracy: 0.8750 - val_f1_m: 0.8750 - val_precision_m: 0.8750 - val_recall_m: 0.8750\n",
      "Epoch 14/20\n",
      "24/24 [==============================] - 5s 188ms/step - loss: 0.4599 - accuracy: 0.8646 - f1_m: 0.8646 - precision_m: 0.8646 - recall_m: 0.8646 - val_loss: 0.7628 - val_accuracy: 0.8333 - val_f1_m: 0.8333 - val_precision_m: 0.8333 - val_recall_m: 0.8333\n",
      "Epoch 15/20\n",
      "24/24 [==============================] - 5s 192ms/step - loss: 0.3694 - accuracy: 0.8646 - f1_m: 0.8646 - precision_m: 0.8646 - recall_m: 0.8646 - val_loss: 0.5817 - val_accuracy: 0.7917 - val_f1_m: 0.7917 - val_precision_m: 0.7917 - val_recall_m: 0.7917\n",
      "Epoch 16/20\n",
      "24/24 [==============================] - 5s 189ms/step - loss: 0.3748 - accuracy: 0.8750 - f1_m: 0.8720 - precision_m: 0.8819 - recall_m: 0.8646 - val_loss: 0.5614 - val_accuracy: 0.8750 - val_f1_m: 0.8810 - val_precision_m: 0.8889 - val_recall_m: 0.8750\n",
      "Epoch 17/20\n",
      "24/24 [==============================] - 5s 194ms/step - loss: 0.2944 - accuracy: 0.8750 - f1_m: 0.8750 - precision_m: 0.8750 - recall_m: 0.8750 - val_loss: 0.5004 - val_accuracy: 0.8333 - val_f1_m: 0.8333 - val_precision_m: 0.8333 - val_recall_m: 0.8333\n",
      "Epoch 18/20\n",
      "24/24 [==============================] - 5s 194ms/step - loss: 0.2935 - accuracy: 0.9062 - f1_m: 0.9003 - precision_m: 0.9062 - recall_m: 0.8958 - val_loss: 0.4014 - val_accuracy: 0.8750 - val_f1_m: 0.8750 - val_precision_m: 0.8750 - val_recall_m: 0.8750\n",
      "Epoch 19/20\n",
      "24/24 [==============================] - 5s 191ms/step - loss: 0.2633 - accuracy: 0.8750 - f1_m: 0.8750 - precision_m: 0.8889 - recall_m: 0.8646 - val_loss: 0.7838 - val_accuracy: 0.7917 - val_f1_m: 0.8036 - val_precision_m: 0.8194 - val_recall_m: 0.7917\n",
      "Epoch 20/20\n",
      "24/24 [==============================] - 5s 193ms/step - loss: 0.5188 - accuracy: 0.8646 - f1_m: 0.8720 - precision_m: 0.8819 - recall_m: 0.8646 - val_loss: 0.8144 - val_accuracy: 0.6667 - val_f1_m: 0.6667 - val_precision_m: 0.6667 - val_recall_m: 0.6667\n",
      "Number of layers in the base model:  600\n",
      "trainable layers: 173\n",
      "FINE TUNED TRAINING:\n",
      "Epoch 20/40\n",
      "24/24 [==============================] - 7s 292ms/step - loss: 0.5691 - accuracy: 0.8021 - f1_m: 0.7991 - precision_m: 0.8090 - recall_m: 0.7917 - val_loss: 0.4758 - val_accuracy: 0.8333 - val_f1_m: 0.8036 - val_precision_m: 0.8194 - val_recall_m: 0.7917\n",
      "Epoch 21/40\n",
      "24/24 [==============================] - 5s 198ms/step - loss: 0.3430 - accuracy: 0.8646 - f1_m: 0.8690 - precision_m: 0.8889 - recall_m: 0.8542 - val_loss: 0.2652 - val_accuracy: 0.9583 - val_f1_m: 0.9345 - val_precision_m: 0.9583 - val_recall_m: 0.9167\n",
      "Epoch 22/40\n",
      "24/24 [==============================] - 5s 195ms/step - loss: 0.6128 - accuracy: 0.7917 - f1_m: 0.7812 - precision_m: 0.7951 - recall_m: 0.7708 - val_loss: 0.3837 - val_accuracy: 0.8750 - val_f1_m: 0.8750 - val_precision_m: 0.8750 - val_recall_m: 0.8750\n",
      "Epoch 23/40\n",
      "24/24 [==============================] - 5s 191ms/step - loss: 0.3556 - accuracy: 0.8750 - f1_m: 0.8720 - precision_m: 0.8819 - recall_m: 0.8646 - val_loss: 0.2552 - val_accuracy: 0.9583 - val_f1_m: 0.9583 - val_precision_m: 0.9583 - val_recall_m: 0.9583\n",
      "Epoch 24/40\n",
      "24/24 [==============================] - 5s 195ms/step - loss: 0.2127 - accuracy: 0.9375 - f1_m: 0.9330 - precision_m: 0.9549 - recall_m: 0.9167 - val_loss: 0.5481 - val_accuracy: 0.8750 - val_f1_m: 0.8214 - val_precision_m: 0.8611 - val_recall_m: 0.7917\n",
      "Epoch 25/40\n",
      "24/24 [==============================] - 5s 195ms/step - loss: 0.4795 - accuracy: 0.8333 - f1_m: 0.8199 - precision_m: 0.8299 - recall_m: 0.8125 - val_loss: 0.2074 - val_accuracy: 0.9583 - val_f1_m: 0.9583 - val_precision_m: 0.9583 - val_recall_m: 0.9583\n",
      "Epoch 26/40\n",
      "24/24 [==============================] - 5s 191ms/step - loss: 0.4284 - accuracy: 0.8333 - f1_m: 0.8408 - precision_m: 0.8507 - recall_m: 0.8333 - val_loss: 0.3719 - val_accuracy: 0.9167 - val_f1_m: 0.9167 - val_precision_m: 0.9167 - val_recall_m: 0.9167\n",
      "Epoch 27/40\n",
      "24/24 [==============================] - 5s 192ms/step - loss: 0.2114 - accuracy: 0.9062 - f1_m: 0.9003 - precision_m: 0.9062 - recall_m: 0.8958 - val_loss: 0.7974 - val_accuracy: 0.8750 - val_f1_m: 0.8750 - val_precision_m: 0.8750 - val_recall_m: 0.8750\n",
      "Epoch 28/40\n",
      "24/24 [==============================] - 5s 193ms/step - loss: 0.3745 - accuracy: 0.8646 - f1_m: 0.8527 - precision_m: 0.8646 - recall_m: 0.8438 - val_loss: 0.7641 - val_accuracy: 0.8333 - val_f1_m: 0.8333 - val_precision_m: 0.8333 - val_recall_m: 0.8333\n",
      "Epoch 29/40\n",
      "24/24 [==============================] - 5s 192ms/step - loss: 0.3765 - accuracy: 0.8542 - f1_m: 0.8363 - precision_m: 0.8403 - recall_m: 0.8333 - val_loss: 0.8391 - val_accuracy: 0.7917 - val_f1_m: 0.7917 - val_precision_m: 0.7917 - val_recall_m: 0.7917\n",
      "Epoch 30/40\n",
      "24/24 [==============================] - 5s 191ms/step - loss: 0.4032 - accuracy: 0.8438 - f1_m: 0.8348 - precision_m: 0.8368 - recall_m: 0.8333 - val_loss: 0.4738 - val_accuracy: 0.8750 - val_f1_m: 0.8750 - val_precision_m: 0.8750 - val_recall_m: 0.8750\n",
      "Epoch 31/40\n",
      "24/24 [==============================] - 5s 191ms/step - loss: 0.2037 - accuracy: 0.9271 - f1_m: 0.9330 - precision_m: 0.9410 - recall_m: 0.9271 - val_loss: 0.5835 - val_accuracy: 0.8750 - val_f1_m: 0.8750 - val_precision_m: 0.8750 - val_recall_m: 0.8750\n",
      "Epoch 32/40\n",
      "24/24 [==============================] - 5s 194ms/step - loss: 0.3465 - accuracy: 0.9062 - f1_m: 0.8973 - precision_m: 0.8993 - recall_m: 0.8958 - val_loss: 0.3889 - val_accuracy: 0.9167 - val_f1_m: 0.9167 - val_precision_m: 0.9167 - val_recall_m: 0.9167\n",
      "Epoch 33/40\n",
      "24/24 [==============================] - 5s 191ms/step - loss: 0.4025 - accuracy: 0.8438 - f1_m: 0.8393 - precision_m: 0.8472 - recall_m: 0.8333 - val_loss: 0.5997 - val_accuracy: 0.8333 - val_f1_m: 0.8333 - val_precision_m: 0.8333 - val_recall_m: 0.8333\n",
      "Epoch 34/40\n",
      "24/24 [==============================] - 5s 191ms/step - loss: 0.2771 - accuracy: 0.8750 - f1_m: 0.8735 - precision_m: 0.8854 - recall_m: 0.8646 - val_loss: 0.2420 - val_accuracy: 0.9583 - val_f1_m: 0.9583 - val_precision_m: 0.9583 - val_recall_m: 0.9583\n",
      "Epoch 35/40\n",
      "24/24 [==============================] - 5s 195ms/step - loss: 0.3859 - accuracy: 0.8750 - f1_m: 0.8611 - precision_m: 0.8750 - recall_m: 0.8542 - val_loss: 0.3173 - val_accuracy: 0.9583 - val_f1_m: 0.9583 - val_precision_m: 0.9583 - val_recall_m: 0.9583\n",
      "Epoch 36/40\n",
      "24/24 [==============================] - 5s 195ms/step - loss: 0.3342 - accuracy: 0.9062 - f1_m: 0.9062 - precision_m: 0.9062 - recall_m: 0.9062 - val_loss: 0.7731 - val_accuracy: 0.7917 - val_f1_m: 0.7917 - val_precision_m: 0.7917 - val_recall_m: 0.7917\n",
      "Epoch 37/40\n",
      "24/24 [==============================] - 5s 192ms/step - loss: 0.2480 - accuracy: 0.8750 - f1_m: 0.8780 - precision_m: 0.8819 - recall_m: 0.8750 - val_loss: 0.5930 - val_accuracy: 0.8333 - val_f1_m: 0.8512 - val_precision_m: 0.8750 - val_recall_m: 0.8333\n",
      "Epoch 38/40\n",
      "24/24 [==============================] - 5s 195ms/step - loss: 0.5042 - accuracy: 0.7917 - f1_m: 0.7872 - precision_m: 0.7951 - recall_m: 0.7812 - val_loss: 0.3587 - val_accuracy: 0.9167 - val_f1_m: 0.9167 - val_precision_m: 0.9167 - val_recall_m: 0.9167\n",
      "Epoch 39/40\n",
      "24/24 [==============================] - 5s 191ms/step - loss: 0.2422 - accuracy: 0.9271 - f1_m: 0.9315 - precision_m: 0.9375 - recall_m: 0.9271 - val_loss: 0.6213 - val_accuracy: 0.8750 - val_f1_m: 0.8750 - val_precision_m: 0.8750 - val_recall_m: 0.8750\n",
      "Epoch 40/40\n",
      "24/24 [==============================] - 5s 194ms/step - loss: 0.2313 - accuracy: 0.8854 - f1_m: 0.8973 - precision_m: 0.9132 - recall_m: 0.8854 - val_loss: 0.2685 - val_accuracy: 0.9167 - val_f1_m: 0.9167 - val_precision_m: 0.9167 - val_recall_m: 0.9167\n",
      "6/6 [==============================] - 1s 124ms/step - loss: 0.7916 - accuracy: 0.7917 - f1_m: 0.7917 - precision_m: 0.7917 - recall_m: 0.7917\n",
      "accuracy 0.7916666865348816\n",
      "f1_score 0.7916666865348816\n",
      "precision 0.7916666865348816\n",
      "recall 0.7916666865348816\n",
      "Found 96 validated image filenames belonging to 3 classes.\n",
      "Found 24 validated image filenames belonging to 3 classes.\n",
      "Tensor(\"relu/Relu:0\", shape=(None, 7, 7, 1664), dtype=float32)\n",
      "Epoch 1/20\n",
      "24/24 [==============================] - 7s 286ms/step - loss: 1.6396 - accuracy: 0.5729 - f1_m: 0.5402 - precision_m: 0.5521 - recall_m: 0.5312 - val_loss: 1.7130 - val_accuracy: 0.6667 - val_f1_m: 0.6667 - val_precision_m: 0.6667 - val_recall_m: 0.6667\n",
      "Epoch 2/20\n",
      "24/24 [==============================] - 5s 190ms/step - loss: 0.8117 - accuracy: 0.7708 - f1_m: 0.7812 - precision_m: 0.7951 - recall_m: 0.7708 - val_loss: 1.3828 - val_accuracy: 0.5833 - val_f1_m: 0.5833 - val_precision_m: 0.5833 - val_recall_m: 0.5833\n",
      "Epoch 3/20\n",
      "24/24 [==============================] - 5s 190ms/step - loss: 0.8375 - accuracy: 0.7188 - f1_m: 0.7188 - precision_m: 0.7188 - recall_m: 0.7188 - val_loss: 0.7634 - val_accuracy: 0.7917 - val_f1_m: 0.7917 - val_precision_m: 0.7917 - val_recall_m: 0.7917\n",
      "Epoch 4/20\n",
      "24/24 [==============================] - 5s 191ms/step - loss: 0.9129 - accuracy: 0.7500 - f1_m: 0.7381 - precision_m: 0.7500 - recall_m: 0.7292 - val_loss: 0.4028 - val_accuracy: 0.7917 - val_f1_m: 0.7917 - val_precision_m: 0.7917 - val_recall_m: 0.7917\n",
      "Epoch 5/20\n",
      "24/24 [==============================] - 4s 187ms/step - loss: 0.5875 - accuracy: 0.8229 - f1_m: 0.8274 - precision_m: 0.8333 - recall_m: 0.8229 - val_loss: 0.9026 - val_accuracy: 0.6250 - val_f1_m: 0.6429 - val_precision_m: 0.6667 - val_recall_m: 0.6250\n",
      "Epoch 6/20\n",
      "24/24 [==============================] - 5s 191ms/step - loss: 0.5037 - accuracy: 0.8021 - f1_m: 0.8021 - precision_m: 0.8299 - recall_m: 0.7812 - val_loss: 0.9138 - val_accuracy: 0.7083 - val_f1_m: 0.7381 - val_precision_m: 0.7778 - val_recall_m: 0.7083\n",
      "Epoch 7/20\n",
      "24/24 [==============================] - 5s 192ms/step - loss: 0.3586 - accuracy: 0.8854 - f1_m: 0.8616 - precision_m: 0.8715 - recall_m: 0.8542 - val_loss: 0.6135 - val_accuracy: 0.8333 - val_f1_m: 0.7976 - val_precision_m: 0.8056 - val_recall_m: 0.7917\n",
      "Epoch 8/20\n",
      "24/24 [==============================] - 5s 189ms/step - loss: 0.5414 - accuracy: 0.8229 - f1_m: 0.8259 - precision_m: 0.8299 - recall_m: 0.8229 - val_loss: 0.6570 - val_accuracy: 0.7917 - val_f1_m: 0.7738 - val_precision_m: 0.8056 - val_recall_m: 0.7500\n",
      "Epoch 9/20\n",
      "24/24 [==============================] - 5s 190ms/step - loss: 0.4610 - accuracy: 0.8646 - f1_m: 0.8586 - precision_m: 0.8646 - recall_m: 0.8542 - val_loss: 1.6303 - val_accuracy: 0.6667 - val_f1_m: 0.6667 - val_precision_m: 0.6667 - val_recall_m: 0.6667\n",
      "Epoch 10/20\n",
      "24/24 [==============================] - 5s 196ms/step - loss: 0.3619 - accuracy: 0.8438 - f1_m: 0.8438 - precision_m: 0.8438 - recall_m: 0.8438 - val_loss: 0.7951 - val_accuracy: 0.6667 - val_f1_m: 0.6667 - val_precision_m: 0.6667 - val_recall_m: 0.6667\n",
      "Epoch 11/20\n",
      "24/24 [==============================] - 5s 189ms/step - loss: 0.4338 - accuracy: 0.8438 - f1_m: 0.8497 - precision_m: 0.8715 - recall_m: 0.8333 - val_loss: 0.5616 - val_accuracy: 0.6667 - val_f1_m: 0.6845 - val_precision_m: 0.7083 - val_recall_m: 0.6667\n",
      "Epoch 12/20\n",
      "24/24 [==============================] - 5s 193ms/step - loss: 0.4620 - accuracy: 0.8333 - f1_m: 0.8348 - precision_m: 0.8368 - recall_m: 0.8333 - val_loss: 0.2356 - val_accuracy: 0.9167 - val_f1_m: 0.9167 - val_precision_m: 0.9167 - val_recall_m: 0.9167\n",
      "Epoch 13/20\n",
      "24/24 [==============================] - 4s 187ms/step - loss: 0.2191 - accuracy: 0.9271 - f1_m: 0.9271 - precision_m: 0.9271 - recall_m: 0.9271 - val_loss: 0.3138 - val_accuracy: 0.8750 - val_f1_m: 0.8929 - val_precision_m: 0.9167 - val_recall_m: 0.8750\n",
      "Epoch 14/20\n",
      "24/24 [==============================] - 5s 193ms/step - loss: 0.4875 - accuracy: 0.8542 - f1_m: 0.8447 - precision_m: 0.8646 - recall_m: 0.8333 - val_loss: 0.1953 - val_accuracy: 0.9167 - val_f1_m: 0.9167 - val_precision_m: 0.9167 - val_recall_m: 0.9167\n",
      "Epoch 15/20\n",
      "24/24 [==============================] - 5s 190ms/step - loss: 0.3081 - accuracy: 0.8854 - f1_m: 0.8795 - precision_m: 0.8854 - recall_m: 0.8750 - val_loss: 0.2256 - val_accuracy: 0.9167 - val_f1_m: 0.9167 - val_precision_m: 0.9167 - val_recall_m: 0.9167\n",
      "Epoch 16/20\n",
      "24/24 [==============================] - 5s 191ms/step - loss: 0.3338 - accuracy: 0.8750 - f1_m: 0.8735 - precision_m: 0.8854 - recall_m: 0.8646 - val_loss: 0.8246 - val_accuracy: 0.7083 - val_f1_m: 0.7083 - val_precision_m: 0.7083 - val_recall_m: 0.7083\n",
      "Epoch 17/20\n",
      "24/24 [==============================] - 5s 188ms/step - loss: 0.4379 - accuracy: 0.8229 - f1_m: 0.8318 - precision_m: 0.8438 - recall_m: 0.8229 - val_loss: 0.4256 - val_accuracy: 0.8333 - val_f1_m: 0.8333 - val_precision_m: 0.8333 - val_recall_m: 0.8333\n",
      "Epoch 18/20\n",
      "24/24 [==============================] - 4s 185ms/step - loss: 0.2320 - accuracy: 0.8958 - f1_m: 0.8884 - precision_m: 0.9062 - recall_m: 0.8750 - val_loss: 0.4999 - val_accuracy: 0.8333 - val_f1_m: 0.8095 - val_precision_m: 0.8333 - val_recall_m: 0.7917\n",
      "Epoch 19/20\n",
      "24/24 [==============================] - 4s 184ms/step - loss: 0.3625 - accuracy: 0.8646 - f1_m: 0.8661 - precision_m: 0.8819 - recall_m: 0.8542 - val_loss: 0.5895 - val_accuracy: 0.7500 - val_f1_m: 0.7500 - val_precision_m: 0.7500 - val_recall_m: 0.7500\n",
      "Epoch 20/20\n",
      "24/24 [==============================] - 4s 187ms/step - loss: 0.3247 - accuracy: 0.8854 - f1_m: 0.8795 - precision_m: 0.8854 - recall_m: 0.8750 - val_loss: 0.3951 - val_accuracy: 0.8333 - val_f1_m: 0.8512 - val_precision_m: 0.8750 - val_recall_m: 0.8333\n",
      "Number of layers in the base model:  600\n",
      "trainable layers: 173\n",
      "FINE TUNED TRAINING:\n",
      "Epoch 20/40\n",
      "24/24 [==============================] - 7s 278ms/step - loss: 0.4208 - accuracy: 0.8438 - f1_m: 0.8438 - precision_m: 0.8576 - recall_m: 0.8333 - val_loss: 0.2454 - val_accuracy: 0.8750 - val_f1_m: 0.8750 - val_precision_m: 0.8750 - val_recall_m: 0.8750\n",
      "Epoch 21/40\n",
      "24/24 [==============================] - 5s 191ms/step - loss: 0.3529 - accuracy: 0.8229 - f1_m: 0.8150 - precision_m: 0.8368 - recall_m: 0.8021 - val_loss: 0.4800 - val_accuracy: 0.8750 - val_f1_m: 0.8750 - val_precision_m: 0.8750 - val_recall_m: 0.8750\n",
      "Epoch 22/40\n",
      "24/24 [==============================] - 5s 193ms/step - loss: 0.3096 - accuracy: 0.8646 - f1_m: 0.8646 - precision_m: 0.8646 - recall_m: 0.8646 - val_loss: 0.2899 - val_accuracy: 0.9167 - val_f1_m: 0.9167 - val_precision_m: 0.9167 - val_recall_m: 0.9167\n",
      "Epoch 23/40\n",
      "24/24 [==============================] - 5s 193ms/step - loss: 0.4445 - accuracy: 0.8438 - f1_m: 0.8318 - precision_m: 0.8438 - recall_m: 0.8229 - val_loss: 0.2934 - val_accuracy: 0.8750 - val_f1_m: 0.8750 - val_precision_m: 0.8750 - val_recall_m: 0.8750\n",
      "Epoch 24/40\n",
      "24/24 [==============================] - 5s 192ms/step - loss: 0.5021 - accuracy: 0.8333 - f1_m: 0.8244 - precision_m: 0.8403 - recall_m: 0.8125 - val_loss: 0.3266 - val_accuracy: 0.9167 - val_f1_m: 0.8869 - val_precision_m: 0.9028 - val_recall_m: 0.8750\n",
      "Epoch 25/40\n",
      "24/24 [==============================] - 5s 196ms/step - loss: 0.4318 - accuracy: 0.8229 - f1_m: 0.8274 - precision_m: 0.8333 - recall_m: 0.8229 - val_loss: 0.5927 - val_accuracy: 0.7917 - val_f1_m: 0.7619 - val_precision_m: 0.7778 - val_recall_m: 0.7500\n",
      "Epoch 26/40\n",
      "24/24 [==============================] - 5s 193ms/step - loss: 0.3544 - accuracy: 0.8750 - f1_m: 0.8690 - precision_m: 0.8750 - recall_m: 0.8646 - val_loss: 0.6281 - val_accuracy: 0.7917 - val_f1_m: 0.7917 - val_precision_m: 0.7917 - val_recall_m: 0.7917\n",
      "Epoch 27/40\n",
      "24/24 [==============================] - 5s 194ms/step - loss: 0.3423 - accuracy: 0.9062 - f1_m: 0.8899 - precision_m: 0.8958 - recall_m: 0.8854 - val_loss: 0.5581 - val_accuracy: 0.7917 - val_f1_m: 0.7917 - val_precision_m: 0.7917 - val_recall_m: 0.7917\n",
      "Epoch 28/40\n",
      "24/24 [==============================] - 5s 195ms/step - loss: 0.4123 - accuracy: 0.8542 - f1_m: 0.8482 - precision_m: 0.8542 - recall_m: 0.8438 - val_loss: 0.5336 - val_accuracy: 0.8333 - val_f1_m: 0.8512 - val_precision_m: 0.8750 - val_recall_m: 0.8333\n",
      "Epoch 29/40\n",
      "24/24 [==============================] - 5s 194ms/step - loss: 0.3552 - accuracy: 0.8438 - f1_m: 0.8398 - precision_m: 0.8507 - recall_m: 0.8333 - val_loss: 0.5795 - val_accuracy: 0.7917 - val_f1_m: 0.7917 - val_precision_m: 0.7917 - val_recall_m: 0.7917\n",
      "Epoch 30/40\n",
      "24/24 [==============================] - 5s 195ms/step - loss: 0.3223 - accuracy: 0.8854 - f1_m: 0.8899 - precision_m: 0.8958 - recall_m: 0.8854 - val_loss: 1.0103 - val_accuracy: 0.6667 - val_f1_m: 0.6786 - val_precision_m: 0.6944 - val_recall_m: 0.6667\n",
      "Epoch 31/40\n",
      "24/24 [==============================] - 5s 196ms/step - loss: 0.3502 - accuracy: 0.8750 - f1_m: 0.8606 - precision_m: 0.8715 - recall_m: 0.8542 - val_loss: 0.1841 - val_accuracy: 0.8750 - val_f1_m: 0.8750 - val_precision_m: 0.8750 - val_recall_m: 0.8750\n",
      "Epoch 32/40\n",
      "24/24 [==============================] - 5s 202ms/step - loss: 0.4705 - accuracy: 0.8021 - f1_m: 0.7917 - precision_m: 0.8056 - recall_m: 0.7812 - val_loss: 0.4122 - val_accuracy: 0.7917 - val_f1_m: 0.7917 - val_precision_m: 0.7917 - val_recall_m: 0.7917\n",
      "Epoch 33/40\n",
      "24/24 [==============================] - 5s 198ms/step - loss: 0.3449 - accuracy: 0.8646 - f1_m: 0.8527 - precision_m: 0.8646 - recall_m: 0.8438 - val_loss: 0.9371 - val_accuracy: 0.7083 - val_f1_m: 0.7083 - val_precision_m: 0.7083 - val_recall_m: 0.7083\n",
      "Epoch 34/40\n",
      "24/24 [==============================] - 5s 192ms/step - loss: 0.3113 - accuracy: 0.8750 - f1_m: 0.8750 - precision_m: 0.8750 - recall_m: 0.8750 - val_loss: 0.6029 - val_accuracy: 0.7917 - val_f1_m: 0.7917 - val_precision_m: 0.7917 - val_recall_m: 0.7917\n",
      "Epoch 35/40\n",
      "24/24 [==============================] - 5s 194ms/step - loss: 0.3804 - accuracy: 0.8750 - f1_m: 0.8676 - precision_m: 0.8715 - recall_m: 0.8646 - val_loss: 0.2024 - val_accuracy: 0.9167 - val_f1_m: 0.9167 - val_precision_m: 0.9167 - val_recall_m: 0.9167\n",
      "Epoch 36/40\n",
      "24/24 [==============================] - 5s 191ms/step - loss: 0.3155 - accuracy: 0.8750 - f1_m: 0.8795 - precision_m: 0.8854 - recall_m: 0.8750 - val_loss: 0.5436 - val_accuracy: 0.8750 - val_f1_m: 0.8750 - val_precision_m: 0.8750 - val_recall_m: 0.8750\n",
      "Epoch 37/40\n",
      "24/24 [==============================] - 5s 193ms/step - loss: 0.3017 - accuracy: 0.8854 - f1_m: 0.8854 - precision_m: 0.8993 - recall_m: 0.8750 - val_loss: 0.2590 - val_accuracy: 0.9167 - val_f1_m: 0.9167 - val_precision_m: 0.9167 - val_recall_m: 0.9167\n",
      "Epoch 38/40\n",
      "24/24 [==============================] - 5s 193ms/step - loss: 0.2172 - accuracy: 0.9062 - f1_m: 0.9003 - precision_m: 0.9062 - recall_m: 0.8958 - val_loss: 0.3308 - val_accuracy: 0.8750 - val_f1_m: 0.8750 - val_precision_m: 0.8750 - val_recall_m: 0.8750\n",
      "Epoch 39/40\n",
      "24/24 [==============================] - 5s 190ms/step - loss: 0.3298 - accuracy: 0.8750 - f1_m: 0.8765 - precision_m: 0.8785 - recall_m: 0.8750 - val_loss: 0.4311 - val_accuracy: 0.8333 - val_f1_m: 0.8333 - val_precision_m: 0.8333 - val_recall_m: 0.8333\n",
      "Epoch 40/40\n",
      "24/24 [==============================] - 5s 198ms/step - loss: 0.2415 - accuracy: 0.9271 - f1_m: 0.9286 - precision_m: 0.9306 - recall_m: 0.9271 - val_loss: 0.1983 - val_accuracy: 0.9583 - val_f1_m: 0.9345 - val_precision_m: 0.9583 - val_recall_m: 0.9167\n",
      "6/6 [==============================] - 1s 125ms/step - loss: 0.3850 - accuracy: 0.7917 - f1_m: 0.7976 - precision_m: 0.8056 - recall_m: 0.7917\n",
      "accuracy 0.7916666865348816\n",
      "f1_score 0.7976190447807312\n",
      "precision 0.8055555820465088\n",
      "recall 0.7916666865348816\n"
     ]
    }
   ],
   "source": [
    "VALIDATION_ACCURACY = []\n",
    "VALIDATION_LOSS = []\n",
    "VALIDATION_F1 = []\n",
    "VALIDATION_RECALL = []\n",
    "VALIDATION_PRECISION = []\n",
    "\n",
    "for train_index, val_index in kf.split(np.zeros(N_SAMPLES),Y):\n",
    "\n",
    "  tf.keras.backend.clear_session()\n",
    "\n",
    "  training_data = train_data.iloc[train_index]\n",
    "  validation_data = train_data.iloc[val_index]\n",
    "\n",
    "  train_data_generator = image_datagen.flow_from_dataframe(training_data,\n",
    "                                                           directory=None,\n",
    "                                                           x_col = 'image',\n",
    "                                                           y_col='label',\n",
    "                                                           class_mode='categorical',\n",
    "                                                           batch_size=4,\n",
    "                                                           target_size=(224,224),\n",
    "                                                           shuffle=True)\n",
    "  validation_data_generator=image_datagen.flow_from_dataframe(validation_data,\n",
    "                                                              directory=None,\n",
    "                                                              x_col='image',\n",
    "                                                              y_col='label',\n",
    "                                                              class_mode='categorical',\n",
    "                                                              target_size=(224,224),\n",
    "                                                              batch_size=4,\n",
    "                                                              shuffle=True)\n",
    "  model = densenet_model()\n",
    "   \n",
    "  history = model.fit(train_data_generator,\n",
    "          epochs=20,\n",
    "          steps_per_epoch=24,\n",
    "          validation_data=validation_data_generator,\n",
    "          validation_steps=6\n",
    "         )\n",
    "  \n",
    "\n",
    "  model.trainable=True\n",
    "  print(\"Number of layers in the base model: \", len(model.layers))\n",
    "  fine_tune_at = 400\n",
    "  for layer in model.layers[:fine_tune_at]:\n",
    "    layer.trainable =  False\n",
    "\n",
    "  model.compile(loss='categorical_crossentropy',\n",
    "                  optimizer=Adam(learning_rate=0.0001/10),\n",
    "                  metrics=['accuracy',f1_m, precision_m, recall_m])\n",
    "\n",
    "\n",
    "  print(\"trainable layers:\", len(model.trainable_variables))\n",
    "\n",
    "  fine_tune_epochs = 20\n",
    "  total_epochs =  20 + fine_tune_epochs\n",
    "\n",
    "  print(\"FINE TUNED TRAINING:\")\n",
    "\n",
    "  history_fine = model.fit(train_data_generator,\n",
    "                         epochs=total_epochs,\n",
    "                         steps_per_epoch=24,\n",
    "                         initial_epoch=history.epoch[-1],\n",
    "                         validation_data=validation_data_generator,\n",
    "                         validation_steps=6)\n",
    "\n",
    "  loss, accuracy, f1_score, precision, recall = model.evaluate(validation_data_generator)\n",
    "\n",
    "  print(\"accuracy\",accuracy)\n",
    "  print(\"f1_score\",f1_score)\n",
    "  print(\"precision\",precision)\n",
    "  print(\"recall\",recall)  \n",
    "\n",
    "  VALIDATION_ACCURACY.append(accuracy)\n",
    "  VALIDATION_LOSS.append(loss)\n",
    "  VALIDATION_F1.append(f1_score)\n",
    "  VALIDATION_RECALL.append(recall)\n",
    "  VALIDATION_PRECISION.append(precision)\n",
    "  \n",
    "  \n",
    "\n",
    " "
   ]
  },
  {
   "cell_type": "code",
   "execution_count": null,
   "metadata": {
    "colab": {
     "base_uri": "https://localhost:8080/",
     "height": 184
    },
    "executionInfo": {
     "elapsed": 1254681,
     "status": "ok",
     "timestamp": 1603887478436,
     "user": {
      "displayName": "Nagharjun Mathimariappan",
      "photoUrl": "https://lh3.googleusercontent.com/a-/AOh14GiCbSg-qxNYoi1_bdhUxxCp04bxi0WkhayHpsmauRA=s64",
      "userId": "07406075633121051569"
     },
     "user_tz": -330
    },
    "id": "pGVAOzeH_Cjj",
    "outputId": "5a2fcb44-c840-4c53-abae-9a4cd50f4598"
   },
   "outputs": [
    {
     "name": "stdout",
     "output_type": "stream",
     "text": [
      "[0.9583333134651184, 0.875, 0.9166666865348816, 0.7916666865348816, 0.7916666865348816]\n",
      "[0.10458347946405411, 0.6159120202064514, 0.2147764414548874, 0.7916317582130432, 0.3850349187850952]\n",
      "[0.9583333134651184, 0.875, 0.9166666865348816, 0.7916666865348816, 0.7976190447807312]\n",
      "[0.9583333134651184, 0.875, 0.9166666865348816, 0.7916666865348816, 0.7916666865348816]\n",
      "[0.9583333134651184, 0.875, 0.9166666865348816, 0.7916666865348816, 0.8055555820465088]\n",
      "CV ACCURACY Average: 0.8666666746139526\n",
      "CV LOSS Average: 0.4223877236247063\n",
      "CV F1 Average: 0.8678571462631226\n",
      "CV RECALL Average: 0.8666666746139526\n",
      "CV PRECISION Average: 0.8694444537162781\n"
     ]
    }
   ],
   "source": [
    "print(VALIDATION_ACCURACY)\n",
    "print(VALIDATION_LOSS)\n",
    "print(VALIDATION_F1)\n",
    "print(VALIDATION_RECALL)\n",
    "print(VALIDATION_PRECISION)\n",
    "\n",
    "print('CV ACCURACY Average:',sum(VALIDATION_ACCURACY)/len(VALIDATION_ACCURACY))\n",
    "print('CV LOSS Average:',sum(VALIDATION_LOSS)/len(VALIDATION_LOSS))\n",
    "print('CV F1 Average:',sum(VALIDATION_F1)/len(VALIDATION_F1))\n",
    "print('CV RECALL Average:',sum(VALIDATION_RECALL)/len(VALIDATION_RECALL))\n",
    "print('CV PRECISION Average:',sum(VALIDATION_PRECISION)/len(VALIDATION_PRECISION))"
   ]
  },
  {
   "cell_type": "code",
   "execution_count": null,
   "metadata": {
    "id": "KUsHbWYUj_K2"
   },
   "outputs": [],
   "source": [
    "import csv\n",
    "with open('/content/drive/My Drive/RESULTS_CV(20+20).csv','w') as f:\n",
    "  writer = csv.writer(f)\n",
    "  writer.writerow(['validation_accuracy','loss','f1','recall','precision'])\n",
    "  for val_acc, val_loss,val_f1,val_recall,val_prec in zip(VALIDATION_ACCURACY,VALIDATION_LOSS,VALIDATION_F1,VALIDATION_RECALL,VALIDATION_PRECISION):\n",
    "    writer.writerow([val_acc,val_loss,val_f1,val_recall,val_prec])\n",
    "f.close()"
   ]
  },
  {
   "cell_type": "code",
   "execution_count": null,
   "metadata": {
    "id": "hu2RI4CBkoUt"
   },
   "outputs": [],
   "source": []
  }
 ],
 "metadata": {
  "colab": {
   "collapsed_sections": [],
   "name": "Copy of Copy of Copy of mobilenet_with_crossvalidation(UCI_dataset).ipynb",
   "provenance": [
    {
     "file_id": "12dWQ2e18oOs2xyhqyil7DF-sCMK5yRW1",
     "timestamp": 1603890914512
    },
    {
     "file_id": "1U5WVAyomhbjSfQENcYqP7rU_0dp3SQ86",
     "timestamp": 1603890790560
    },
    {
     "file_id": "1fhzD74UrUKd8IHrtYth9VlFkaDWe71m1",
     "timestamp": 1603263039211
    }
   ]
  },
  "kernelspec": {
   "display_name": "Python 3",
   "language": "python",
   "name": "python3"
  },
  "language_info": {
   "codemirror_mode": {
    "name": "ipython",
    "version": 3
   },
   "file_extension": ".py",
   "mimetype": "text/x-python",
   "name": "python",
   "nbconvert_exporter": "python",
   "pygments_lexer": "ipython3",
   "version": "3.8.5"
  }
 },
 "nbformat": 4,
 "nbformat_minor": 1
}
